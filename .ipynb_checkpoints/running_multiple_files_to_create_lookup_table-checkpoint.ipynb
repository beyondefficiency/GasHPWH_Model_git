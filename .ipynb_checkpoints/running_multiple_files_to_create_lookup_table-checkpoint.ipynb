{
 "cells": [
  {
   "cell_type": "code",
   "execution_count": null,
   "metadata": {},
   "outputs": [],
   "source": [
    "%run GasHPWH_Model_MixedTank_Simulation_MultipleDraws.py"
   ]
  },
  {
   "cell_type": "code",
   "execution_count": 3,
   "metadata": {},
   "outputs": [],
   "source": [
    "kWh_Dataframe.to_csv(Path_Summary_Output + os.sep + 'kWh_Usage_Summary.csv')\n",
    "Therms_Dataframe.to_csv(Path_Summary_Output + os.sep + 'Therms_Usage_Summary.csv')"
   ]
  },
  {
   "cell_type": "code",
   "execution_count": 3,
   "metadata": {},
   "outputs": [
    {
     "data": {
      "text/plain": [
       "'040320_17:20'"
      ]
     },
     "execution_count": 3,
     "metadata": {},
     "output_type": "execute_result"
    }
   ],
   "source": [
    "datetime.now().strftime(\"%m%d%y_%H:%M\")"
   ]
  },
  {
   "cell_type": "code",
   "execution_count": 205,
   "metadata": {},
   "outputs": [],
   "source": [
    "Start = Draw_Profile.loc[i, 'Start Time of Profile (min)'] #Reads the time when the draw starts\n",
    "End = Draw_Profile.loc[i, 'End Time of Profile (min)'] #Reads the time when the draw ends\n",
    "Bin_Start = int(np.floor(Start/Timestep) + 1) #Calculates the bin when the draw starts. adds one because bins are labeled according to thier end time\n",
    "Number_Bins = int(np.ceil((End-Start)/Timestep)) #Identifies the number of timesteps over which the current draw is performed. E.g. A 10 minute hot water draw starting at 12:02:30 in a profile with 1 minute timeseps would occupy 11 bins (The second half of 12:02, 12:03, 12:04, ..., 12:11, the first half of 12:12)\n",
    "Bin_End = Bin_Start + Number_Bins - 1\n",
    "Flow_Rate = Draw_Profile.loc[i, 'Hot Water Flow Rate (gpm)'] #Reads the hot water flow rate of the draw and stores it in the variable Flow_Rate\n",
    "Duration = Draw_Profile.loc[i, 'Duration (min)'] #Reads the duration of the draw and stores it in the variable Duration\n",
    "\n",
    "if Number_Bins == 1: #If the draw only happens during a single timestep\n",
    "    Model.loc[Bin_Start, 'Hot Water Draw Volume (gal)'] += Flow_Rate * Duration #Add the entire volume of the draw to that timestep\n",
    "else: #If it takes place over more than one draw\n",
    "    Duration_First = Timestep - (Start - Timestep * (Bin_Start-1)) #Identify the duration of the draw during the first time step\n",
    "#     Model.loc[Bin_Start, 'Hot Water Draw Volume (gal)'] += Flow_Rate * Duration_First #Set the volume of the draw duing the first time step equal to the flow rate times that duration\n",
    "    Duration_Last = End - (Bin_End-1) * Timestep #Calculate the duration during the final timestep\n",
    "#     Model.loc[Bin_End, 'Hot Water Draw Volume (gal)'] += Flow_Rate * Duration_Last #Set the volume of the draw during the final timestep equal to the flow rate times that duration\n",
    "#     if Number_Bins > 2: #If the draw occurs in more than 2 timesteps (Indicating that there are timesteps with continuous flow between the first and last timestep)\n",
    "#         for i in range(Number_Bins - 2): #For each of the intermediate timesteps\n",
    "#             Model.loc[Bin_Start, 'Hot Water Draw Volume (gal)'] += Flow_Rate * Timestep #Set the hot water draw volume equal to the flow rate (Times 1 minute)\n"
   ]
  },
  {
   "cell_type": "code",
   "execution_count": 216,
   "metadata": {},
   "outputs": [
    {
     "name": "stdout",
     "output_type": "stream",
     "text": [
      "1\n"
     ]
    }
   ],
   "source": [
    "Number_Bins = 3\n",
    "for i in range(1,Number_Bins-1):\n",
    "    print(i)"
   ]
  },
  {
   "cell_type": "markdown",
   "metadata": {},
   "source": []
  },
  {
   "cell_type": "code",
   "execution_count": 32,
   "metadata": {},
   "outputs": [],
   "source": [
    "if vary_inlet_temp == True:\n",
    "    WeatherData = Draw_Profile[['Day of Year (Day)','Mains Temperature (deg F)']].copy() #Read the weather data, ignoring the first 25 lines of header\n",
    "    WeatherData = WeatherData.drop_duplicates() #filter data to only include one reading for each day of year since the mains temp is the same for all 24 hrs each day\n",
    "    WeatherData = WeatherData.set_index([WeatherData['Day of Year (Day)']])\n",
    "    mains_temp_dict = {WeatherData.loc[each,'Day of Year (Day)']:WeatherData.loc[each,'Mains Temperature (deg F)'] for each in WeatherData['Day of Year (Day)']}"
   ]
  },
  {
   "cell_type": "code",
   "execution_count": 127,
   "metadata": {},
   "outputs": [
    {
     "data": {
      "text/plain": [
       "Time (min)                          2.762580e+10\n",
       "Hot Water Draw Volume (gal)         2.300605e+04\n",
       "Inlet Water Temperature (deg F)     4.204800e+06\n",
       "Ambient Temperature (deg F)         7.148160e+06\n",
       "Tank Temperature (deg F)            1.230077e+07\n",
       "Jacket Losses (Btu)                -1.516381e+07\n",
       "Energy Withdrawn (Btu)             -1.473626e+07\n",
       "Energy Added Backup (Btu)           0.000000e+00\n",
       "Energy Added Heat Pump (Btu)        2.989570e+07\n",
       "Energy Added Total (Btu)            2.989570e+07\n",
       "COP Gas                             1.830727e+05\n",
       "Total Energy Change (Btu)          -4.369437e+03\n",
       "Timestep (min)                      5.256000e+05\n",
       "Elec Energy Demand (Watts)          3.675266e+06\n",
       "Electric Usage (W-hrs)              3.062722e+05\n",
       "Gas Usage (Btu)                     1.709922e+07\n",
       "NOx Production (ng)                 1.804063e+11\n",
       "Energy Added Heat Pump (Btu/min)    5.979140e+06\n",
       "dtype: float64"
      ]
     },
     "execution_count": 127,
     "metadata": {},
     "output_type": "execute_result"
    }
   ],
   "source": [
    "testing"
   ]
  },
  {
   "cell_type": "code",
   "execution_count": 154,
   "metadata": {},
   "outputs": [],
   "source": [
    "testing2 = Model.sum()"
   ]
  },
  {
   "cell_type": "code",
   "execution_count": 218,
   "metadata": {},
   "outputs": [],
   "source": [
    "testing4 = Model.sum()"
   ]
  },
  {
   "cell_type": "code",
   "execution_count": 163,
   "metadata": {},
   "outputs": [
    {
     "data": {
      "text/plain": [
       "23005.944908376456"
      ]
     },
     "execution_count": 163,
     "metadata": {},
     "output_type": "execute_result"
    }
   ],
   "source": [
    "testing3[1]"
   ]
  },
  {
   "cell_type": "code",
   "execution_count": 221,
   "metadata": {},
   "outputs": [
    {
     "data": {
      "text/plain": [
       "23005.944908377667"
      ]
     },
     "execution_count": 221,
     "metadata": {},
     "output_type": "execute_result"
    }
   ],
   "source": [
    "Draw_Profile.sum()[10]"
   ]
  },
  {
   "cell_type": "code",
   "execution_count": 219,
   "metadata": {},
   "outputs": [
    {
     "data": {
      "text/plain": [
       "23005.944908376445"
      ]
     },
     "execution_count": 219,
     "metadata": {},
     "output_type": "execute_result"
    }
   ],
   "source": [
    "testing4[1]"
   ]
  },
  {
   "cell_type": "code",
   "execution_count": 225,
   "metadata": {},
   "outputs": [
    {
     "data": {
      "text/plain": [
       "23006.053733590732"
      ]
     },
     "execution_count": 225,
     "metadata": {},
     "output_type": "execute_result"
    }
   ],
   "source": [
    "testing[1]"
   ]
  },
  {
   "cell_type": "code",
   "execution_count": null,
   "metadata": {},
   "outputs": [],
   "source": []
  }
 ],
 "metadata": {
  "kernelspec": {
   "display_name": "Python 3",
   "language": "python",
   "name": "python3"
  },
  "language_info": {
   "codemirror_mode": {
    "name": "ipython",
    "version": 3
   },
   "file_extension": ".py",
   "mimetype": "text/x-python",
   "name": "python",
   "nbconvert_exporter": "python",
   "pygments_lexer": "ipython3",
   "version": "3.7.3"
  }
 },
 "nbformat": 4,
 "nbformat_minor": 2
}
