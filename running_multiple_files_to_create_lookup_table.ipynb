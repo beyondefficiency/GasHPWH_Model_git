{
 "cells": [
  {
   "cell_type": "code",
   "execution_count": 1,
   "metadata": {},
   "outputs": [
    {
     "name": "stdout",
     "output_type": "stream",
     "text": [
      "Code block 'CFA = 1200, Climate Zone = 11' took: 31217.71549 ms\n",
      "Code block 'CFA = 800, Climate Zone = 7' took: 26892.72389 ms\n",
      "Code block 'CFA = 1200, Climate Zone = 13' took: 29781.53287 ms\n",
      "Code block 'CFA = 800, Climate Zone = 3' took: 30825.73661 ms\n",
      "Code block 'CFA = 2100, Climate Zone = 8' took: 32280.97070 ms\n",
      "Code block 'CFA = 1200, Climate Zone = 15' took: 29218.77156 ms\n",
      "Code block 'CFA = 1200, Climate Zone = 1' took: 29929.27141 ms\n",
      "Code block 'CFA = 3500, Climate Zone = 8' took: 36827.71147 ms\n",
      "Code block 'CFA = 1200, Climate Zone = 3' took: 35920.84221 ms\n",
      "Code block 'CFA = 800, Climate Zone = 14' took: 26844.98482 ms\n",
      "Code block 'CFA = 1200, Climate Zone = 7' took: 31203.17833 ms\n",
      "Code block 'CFA = 2700, Climate Zone = 9' took: 33108.64447 ms\n",
      "Code block 'CFA = 800, Climate Zone = 10' took: 30521.74934 ms\n",
      "Code block 'CFA = 1200, Climate Zone = 5' took: 30090.24369 ms\n",
      "Code block 'CFA = 2700, Climate Zone = 10' took: 44068.74124 ms\n",
      "Code block 'CFA = 800, Climate Zone = 4' took: 26544.43703 ms\n",
      "Code block 'CFA = 2100, Climate Zone = 1' took: 32603.37965 ms\n",
      "Code block 'CFA = 3500, Climate Zone = 15' took: 40577.68300 ms\n",
      "Code block 'CFA = 2700, Climate Zone = 12' took: 37034.02291 ms\n",
      "Code block 'CFA = 2100, Climate Zone = 3' took: 35719.14685 ms\n",
      "Code block 'CFA = 3500, Climate Zone = 13' took: 42459.31103 ms\n",
      "Code block 'CFA = 800, Climate Zone = 8' took: 40014.24522 ms\n",
      "Code block 'CFA = 2700, Climate Zone = 16' took: 40166.79398 ms\n",
      "Code block 'CFA = 2100, Climate Zone = 7' took: 36276.70606 ms\n",
      "Code block 'CFA = 2700, Climate Zone = 14' took: 37072.33151 ms\n",
      "Code block 'CFA = 2100, Climate Zone = 5' took: 38700.82913 ms\n",
      "Code block 'CFA = 3500, Climate Zone = 11' took: 42695.88873 ms\n",
      "Code block 'CFA = 3500, Climate Zone = 5' took: 39246.50808 ms\n",
      "Code block 'CFA = 2100, Climate Zone = 11' took: 34807.59211 ms\n",
      "Code block 'CFA = 2700, Climate Zone = 2' took: 35148.52823 ms\n",
      "Code block 'CFA = 2100, Climate Zone = 13' took: 34355.22887 ms\n",
      "Code block 'CFA = 3500, Climate Zone = 7' took: 40762.21823 ms\n",
      "Code block 'CFA = 2700, Climate Zone = 6' took: 42342.06331 ms\n",
      "Code block 'CFA = 3500, Climate Zone = 3' took: 39432.35852 ms\n",
      "Code block 'CFA = 3500, Climate Zone = 1' took: 38763.05735 ms\n",
      "Code block 'CFA = 800, Climate Zone = 13' took: 26261.62730 ms\n",
      "Code block 'CFA = 2700, Climate Zone = 4' took: 35001.71222 ms\n",
      "Code block 'CFA = 2100, Climate Zone = 15' took: 35457.37291 ms\n",
      "Code block 'CFA = 1200, Climate Zone = 8' took: 29651.85142 ms\n",
      "Code block 'CFA = 3500, Climate Zone = 10' took: 35805.69719 ms\n",
      "Code block 'CFA = 800, Climate Zone = 5' took: 31694.64890 ms\n",
      "Code block 'CFA = 2700, Climate Zone = 15' took: 47395.53549 ms\n",
      "Code block 'CFA = 2100, Climate Zone = 4' took: 34903.53704 ms\n",
      "Code block 'CFA = 2100, Climate Zone = 6' took: 44216.94990 ms\n",
      "Code block 'CFA = 800, Climate Zone = 1' took: 36207.54948 ms\n",
      "Code block 'CFA = 3500, Climate Zone = 12' took: 36412.02322 ms\n",
      "Code block 'CFA = 2700, Climate Zone = 13' took: 32914.83672 ms\n",
      "Code block 'CFA = 2100, Climate Zone = 2' took: 32775.62218 ms\n",
      "Code block 'CFA = 3500, Climate Zone = 16' took: 35267.19742 ms\n",
      "Code block 'CFA = 800, Climate Zone = 9' took: 25992.78106 ms\n",
      "Code block 'CFA = 3500, Climate Zone = 14' took: 36085.93488 ms\n",
      "Code block 'CFA = 2700, Climate Zone = 11' took: 33173.59730 ms\n",
      "Code block 'CFA = 2700, Climate Zone = 5' took: 33950.41079 ms\n",
      "Code block 'CFA = 2100, Climate Zone = 14' took: 35906.81307 ms\n",
      "Code block 'CFA = 1200, Climate Zone = 9' took: 30065.00932 ms\n",
      "Code block 'CFA = 3500, Climate Zone = 2' took: 37007.39029 ms\n",
      "Code block 'CFA = 2700, Climate Zone = 7' took: 32393.10050 ms\n",
      "Code block 'CFA = 2100, Climate Zone = 16' took: 31694.88236 ms\n",
      "Code block 'CFA = 3500, Climate Zone = 6' took: 35475.13367 ms\n",
      "Code block 'CFA = 800, Climate Zone = 16' took: 30349.37397 ms\n",
      "Code block 'CFA = 2700, Climate Zone = 3' took: 33002.77781 ms\n",
      "Code block 'CFA = 2100, Climate Zone = 12' took: 32459.92201 ms\n",
      "Code block 'CFA = 2700, Climate Zone = 1' took: 32731.04487 ms\n",
      "Code block 'CFA = 2100, Climate Zone = 10' took: 31992.03963 ms\n",
      "Code block 'CFA = 3500, Climate Zone = 4' took: 35496.66175 ms\n",
      "Code block 'CFA = 800, Climate Zone = 12' took: 26144.25617 ms\n",
      "Code block 'CFA = 2100, Climate Zone = 9' took: 32058.72399 ms\n",
      "Code block 'CFA = 1200, Climate Zone = 14' took: 34052.29366 ms\n",
      "Code block 'CFA = 800, Climate Zone = 6' took: 33991.13597 ms\n",
      "Code block 'CFA = 800, Climate Zone = 2' took: 33228.52258 ms\n",
      "Code block 'CFA = 1200, Climate Zone = 16' took: 32122.23874 ms\n",
      "Code block 'CFA = 1200, Climate Zone = 12' took: 37244.99440 ms\n",
      "Code block 'CFA = 1200, Climate Zone = 10' took: 35564.40404 ms\n",
      "Code block 'CFA = 2700, Climate Zone = 8' took: 50388.58443 ms\n",
      "Code block 'CFA = 1200, Climate Zone = 4' took: 40321.61269 ms\n",
      "Code block 'CFA = 1200, Climate Zone = 6' took: 45698.11754 ms\n",
      "Code block 'CFA = 1200, Climate Zone = 2' took: 32388.09968 ms\n",
      "Code block 'CFA = 800, Climate Zone = 15' took: 45156.56593 ms\n",
      "Code block 'CFA = 3500, Climate Zone = 9' took: 44079.91431 ms\n",
      "Code block 'CFA = 800, Climate Zone = 11' took: 27313.92155 ms\n",
      "script ran80 draw profiles in 3.190221909046173 seconds\n"
     ]
    }
   ],
   "source": [
    "%run GasHPWH_Model_MixedTank_Simulation_MultipleDraws.py"
   ]
  },
  {
   "cell_type": "code",
   "execution_count": 3,
   "metadata": {},
   "outputs": [],
   "source": [
    "kWh_Dataframe.to_csv(Path_Summary_Output + os.sep + 'kWh_Usage_Summary.csv')\n",
    "Therms_Dataframe.to_csv(Path_Summary_Output + os.sep + 'Therms_Usage_Summary.csv')"
   ]
  },
  {
   "cell_type": "code",
   "execution_count": 229,
   "metadata": {},
   "outputs": [
    {
     "ename": "NameError",
     "evalue": "name 'this' is not defined",
     "output_type": "error",
     "traceback": [
      "\u001b[0;31m---------------------------------------------------------------------------\u001b[0m",
      "\u001b[0;31mNameError\u001b[0m                                 Traceback (most recent call last)",
      "\u001b[0;32m<ipython-input-229-a6c20fd81199>\u001b[0m in \u001b[0;36m<module>\u001b[0;34m\u001b[0m\n\u001b[0;32m----> 1\u001b[0;31m \u001b[0mprint\u001b[0m\u001b[0;34m(\u001b[0m\u001b[0mthis\u001b[0m\u001b[0;34m)\u001b[0m\u001b[0;34m\u001b[0m\u001b[0;34m\u001b[0m\u001b[0m\n\u001b[0m",
      "\u001b[0;31mNameError\u001b[0m: name 'this' is not defined"
     ]
    }
   ],
   "source": [
    "time"
   ]
  },
  {
   "cell_type": "code",
   "execution_count": 205,
   "metadata": {},
   "outputs": [],
   "source": [
    "Start = Draw_Profile.loc[i, 'Start Time of Profile (min)'] #Reads the time when the draw starts\n",
    "End = Draw_Profile.loc[i, 'End Time of Profile (min)'] #Reads the time when the draw ends\n",
    "Bin_Start = int(np.floor(Start/Timestep) + 1) #Calculates the bin when the draw starts. adds one because bins are labeled according to thier end time\n",
    "Number_Bins = int(np.ceil((End-Start)/Timestep)) #Identifies the number of timesteps over which the current draw is performed. E.g. A 10 minute hot water draw starting at 12:02:30 in a profile with 1 minute timeseps would occupy 11 bins (The second half of 12:02, 12:03, 12:04, ..., 12:11, the first half of 12:12)\n",
    "Bin_End = Bin_Start + Number_Bins - 1\n",
    "Flow_Rate = Draw_Profile.loc[i, 'Hot Water Flow Rate (gpm)'] #Reads the hot water flow rate of the draw and stores it in the variable Flow_Rate\n",
    "Duration = Draw_Profile.loc[i, 'Duration (min)'] #Reads the duration of the draw and stores it in the variable Duration\n",
    "\n",
    "if Number_Bins == 1: #If the draw only happens during a single timestep\n",
    "    Model.loc[Bin_Start, 'Hot Water Draw Volume (gal)'] += Flow_Rate * Duration #Add the entire volume of the draw to that timestep\n",
    "else: #If it takes place over more than one draw\n",
    "    Duration_First = Timestep - (Start - Timestep * (Bin_Start-1)) #Identify the duration of the draw during the first time step\n",
    "#     Model.loc[Bin_Start, 'Hot Water Draw Volume (gal)'] += Flow_Rate * Duration_First #Set the volume of the draw duing the first time step equal to the flow rate times that duration\n",
    "    Duration_Last = End - (Bin_End-1) * Timestep #Calculate the duration during the final timestep\n",
    "#     Model.loc[Bin_End, 'Hot Water Draw Volume (gal)'] += Flow_Rate * Duration_Last #Set the volume of the draw during the final timestep equal to the flow rate times that duration\n",
    "#     if Number_Bins > 2: #If the draw occurs in more than 2 timesteps (Indicating that there are timesteps with continuous flow between the first and last timestep)\n",
    "#         for i in range(Number_Bins - 2): #For each of the intermediate timesteps\n",
    "#             Model.loc[Bin_Start, 'Hot Water Draw Volume (gal)'] += Flow_Rate * Timestep #Set the hot water draw volume equal to the flow rate (Times 1 minute)\n"
   ]
  },
  {
   "cell_type": "code",
   "execution_count": 216,
   "metadata": {},
   "outputs": [
    {
     "name": "stdout",
     "output_type": "stream",
     "text": [
      "1\n"
     ]
    }
   ],
   "source": [
    "Number_Bins = 3\n",
    "for i in range(1,Number_Bins-1):\n",
    "    print(i)"
   ]
  },
  {
   "cell_type": "markdown",
   "metadata": {},
   "source": []
  },
  {
   "cell_type": "code",
   "execution_count": 32,
   "metadata": {},
   "outputs": [],
   "source": [
    "if vary_inlet_temp == True:\n",
    "    WeatherData = Draw_Profile[['Day of Year (Day)','Mains Temperature (deg F)']].copy() #Read the weather data, ignoring the first 25 lines of header\n",
    "    WeatherData = WeatherData.drop_duplicates() #filter data to only include one reading for each day of year since the mains temp is the same for all 24 hrs each day\n",
    "    WeatherData = WeatherData.set_index([WeatherData['Day of Year (Day)']])\n",
    "    mains_temp_dict = {WeatherData.loc[each,'Day of Year (Day)']:WeatherData.loc[each,'Mains Temperature (deg F)'] for each in WeatherData['Day of Year (Day)']}"
   ]
  },
  {
   "cell_type": "code",
   "execution_count": 127,
   "metadata": {},
   "outputs": [
    {
     "data": {
      "text/plain": [
       "Time (min)                          2.762580e+10\n",
       "Hot Water Draw Volume (gal)         2.300605e+04\n",
       "Inlet Water Temperature (deg F)     4.204800e+06\n",
       "Ambient Temperature (deg F)         7.148160e+06\n",
       "Tank Temperature (deg F)            1.230077e+07\n",
       "Jacket Losses (Btu)                -1.516381e+07\n",
       "Energy Withdrawn (Btu)             -1.473626e+07\n",
       "Energy Added Backup (Btu)           0.000000e+00\n",
       "Energy Added Heat Pump (Btu)        2.989570e+07\n",
       "Energy Added Total (Btu)            2.989570e+07\n",
       "COP Gas                             1.830727e+05\n",
       "Total Energy Change (Btu)          -4.369437e+03\n",
       "Timestep (min)                      5.256000e+05\n",
       "Elec Energy Demand (Watts)          3.675266e+06\n",
       "Electric Usage (W-hrs)              3.062722e+05\n",
       "Gas Usage (Btu)                     1.709922e+07\n",
       "NOx Production (ng)                 1.804063e+11\n",
       "Energy Added Heat Pump (Btu/min)    5.979140e+06\n",
       "dtype: float64"
      ]
     },
     "execution_count": 127,
     "metadata": {},
     "output_type": "execute_result"
    }
   ],
   "source": [
    "testing"
   ]
  },
  {
   "cell_type": "code",
   "execution_count": 154,
   "metadata": {},
   "outputs": [],
   "source": [
    "testing2 = Model.sum()"
   ]
  },
  {
   "cell_type": "code",
   "execution_count": 218,
   "metadata": {},
   "outputs": [],
   "source": [
    "testing4 = Model.sum()"
   ]
  },
  {
   "cell_type": "code",
   "execution_count": 163,
   "metadata": {},
   "outputs": [
    {
     "data": {
      "text/plain": [
       "23005.944908376456"
      ]
     },
     "execution_count": 163,
     "metadata": {},
     "output_type": "execute_result"
    }
   ],
   "source": [
    "testing3[1]"
   ]
  },
  {
   "cell_type": "code",
   "execution_count": 221,
   "metadata": {},
   "outputs": [
    {
     "data": {
      "text/plain": [
       "23005.944908377667"
      ]
     },
     "execution_count": 221,
     "metadata": {},
     "output_type": "execute_result"
    }
   ],
   "source": [
    "Draw_Profile.sum()[10]"
   ]
  },
  {
   "cell_type": "code",
   "execution_count": 219,
   "metadata": {},
   "outputs": [
    {
     "data": {
      "text/plain": [
       "23005.944908376445"
      ]
     },
     "execution_count": 219,
     "metadata": {},
     "output_type": "execute_result"
    }
   ],
   "source": [
    "testing4[1]"
   ]
  },
  {
   "cell_type": "code",
   "execution_count": 225,
   "metadata": {},
   "outputs": [
    {
     "data": {
      "text/plain": [
       "23006.053733590732"
      ]
     },
     "execution_count": 225,
     "metadata": {},
     "output_type": "execute_result"
    }
   ],
   "source": [
    "testing[1]"
   ]
  },
  {
   "cell_type": "code",
   "execution_count": null,
   "metadata": {},
   "outputs": [],
   "source": []
  }
 ],
 "metadata": {
  "kernelspec": {
   "display_name": "Python 3",
   "language": "python",
   "name": "python3"
  },
  "language_info": {
   "codemirror_mode": {
    "name": "ipython",
    "version": 3
   },
   "file_extension": ".py",
   "mimetype": "text/x-python",
   "name": "python",
   "nbconvert_exporter": "python",
   "pygments_lexer": "ipython3",
   "version": "3.7.3"
  }
 },
 "nbformat": 4,
 "nbformat_minor": 2
}
