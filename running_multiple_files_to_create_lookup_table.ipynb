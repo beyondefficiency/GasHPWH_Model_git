{
 "cells": [
  {
   "cell_type": "code",
   "execution_count": 31,
   "metadata": {
    "scrolled": true
   },
   "outputs": [
    {
     "name": "stdout",
     "output_type": "stream",
     "text": [
      "Code block 'CFA = 3500, Climate Zone = 6' took: 36980.06639 ms\n",
      "Code block 'CFA = 1200, Climate Zone = 7' took: 28731.61789 ms\n",
      "Code block 'CFA = 2700, Climate Zone = 5' took: 35555.74368 ms\n",
      "Code block 'CFA = 800, Climate Zone = 4' took: 28178.50607 ms\n",
      "Code block 'CFA = 2100, Climate Zone = 2' took: 33466.03371 ms\n",
      "Code block 'CFA = 3500, Climate Zone = 4' took: 38185.58777 ms\n",
      "Code block 'CFA = 2700, Climate Zone = 7' took: 34919.63973 ms\n",
      "Code block 'CFA = 1200, Climate Zone = 5' took: 36622.41804 ms\n",
      "Code block 'CFA = 800, Climate Zone = 9' took: 29915.98670 ms\n",
      "Code block 'CFA = 1200, Climate Zone = 3' took: 32012.74321 ms\n",
      "Code block 'CFA = 2700, Climate Zone = 1' took: 34590.62067 ms\n",
      "Code block 'CFA = 800, Climate Zone = 2' took: 26456.96049 ms\n",
      "Code block 'CFA = 3500, Climate Zone = 2' took: 38826.06293 ms\n",
      "Code block 'CFA = 2100, Climate Zone = 4' took: 34968.04890 ms\n",
      "Code block 'CFA = 2700, Climate Zone = 3' took: 33842.77180 ms\n",
      "Code block 'CFA = 1200, Climate Zone = 1' took: 30483.83892 ms\n",
      "Code block 'CFA = 800, Climate Zone = 11' took: 25554.03144 ms\n",
      "Code block 'CFA = 2100, Climate Zone = 6' took: 33449.81349 ms\n",
      "Code block 'CFA = 2700, Climate Zone = 15' took: 33581.53776 ms\n",
      "Code block 'CFA = 2100, Climate Zone = 10' took: 31826.64596 ms\n",
      "Code block 'CFA = 3500, Climate Zone = 16' took: 35917.37035 ms\n",
      "Code block 'CFA = 800, Climate Zone = 5' took: 25173.28098 ms\n",
      "Code block 'CFA = 1200, Climate Zone = 15' took: 28918.75702 ms\n",
      "Code block 'CFA = 800, Climate Zone = 16' took: 25260.99226 ms\n",
      "Code block 'CFA = 2100, Climate Zone = 8' took: 32229.62400 ms\n",
      "Code block 'CFA = 2100, Climate Zone = 12' took: 32182.22846 ms\n",
      "Code block 'CFA = 3500, Climate Zone = 14' took: 35656.49209 ms\n",
      "Code block 'CFA = 800, Climate Zone = 8' took: 25745.69999 ms\n",
      "Code block 'CFA = 800, Climate Zone = 3' took: 26058.61296 ms\n",
      "Code block 'CFA = 3500, Climate Zone = 12' took: 37539.25847 ms\n",
      "Code block 'CFA = 2100, Climate Zone = 14' took: 32687.87190 ms\n",
      "Code block 'CFA = 3500, Climate Zone = 8' took: 37160.24995 ms\n",
      "Code block 'CFA = 1200, Climate Zone = 9' took: 28810.80175 ms\n",
      "Code block 'CFA = 2700, Climate Zone = 11' took: 32654.46058 ms\n",
      "Code block 'CFA = 1200, Climate Zone = 13' took: 29461.89572 ms\n",
      "Code block 'CFA = 3500, Climate Zone = 10' took: 42743.26994 ms\n",
      "Code block 'CFA = 2100, Climate Zone = 16' took: 55557.26818 ms\n",
      "Code block 'CFA = 1200, Climate Zone = 11' took: 41283.77565 ms\n",
      "Code block 'CFA = 2700, Climate Zone = 13' took: 43789.21065 ms\n",
      "Code block 'CFA = 2700, Climate Zone = 9' took: 36569.22864 ms\n",
      "Code block 'CFA = 800, Climate Zone = 10' took: 30561.25894 ms\n",
      "Code block 'CFA = 1200, Climate Zone = 6' took: 32083.98093 ms\n",
      "Code block 'CFA = 800, Climate Zone = 6' took: 31785.39467 ms\n",
      "Code block 'CFA = 2700, Climate Zone = 4' took: 36302.35868 ms\n",
      "Code block 'CFA = 3500, Climate Zone = 7' took: 40063.72931 ms\n",
      "Code block 'CFA = 2100, Climate Zone = 1' took: 34897.46109 ms\n",
      "Code block 'CFA = 2700, Climate Zone = 6' took: 34465.79565 ms\n",
      "Code block 'CFA = 1200, Climate Zone = 4' took: 28552.38468 ms\n",
      "Code block 'CFA = 800, Climate Zone = 15' took: 25088.29606 ms\n",
      "Code block 'CFA = 3500, Climate Zone = 5' took: 35562.39454 ms\n",
      "Code block 'CFA = 2100, Climate Zone = 3' took: 31568.86598 ms\n",
      "Code block 'CFA = 2100, Climate Zone = 5' took: 32007.21664 ms\n",
      "Code block 'CFA = 3500, Climate Zone = 3' took: 36521.37366 ms\n",
      "Code block 'CFA = 1200, Climate Zone = 2' took: 28459.05908 ms\n",
      "Code block 'CFA = 800, Climate Zone = 13' took: 25105.00189 ms\n",
      "Code block 'CFA = 2100, Climate Zone = 7' took: 31605.32106 ms\n",
      "Code block 'CFA = 3500, Climate Zone = 1' took: 35632.75515 ms\n",
      "Code block 'CFA = 2700, Climate Zone = 2' took: 37800.14176 ms\n",
      "Code block 'CFA = 2100, Climate Zone = 11' took: 34408.24355 ms\n",
      "Code block 'CFA = 800, Climate Zone = 7' took: 27992.11714 ms\n",
      "Code block 'CFA = 2700, Climate Zone = 14' took: 33046.26303 ms\n",
      "Code block 'CFA = 1200, Climate Zone = 16' took: 28567.35990 ms\n",
      "Code block 'CFA = 3500, Climate Zone = 15' took: 41534.05038 ms\n",
      "Code block 'CFA = 2100, Climate Zone = 13' took: 35276.74316 ms\n",
      "Code block 'CFA = 2100, Climate Zone = 9' took: 33476.76964 ms\n",
      "Code block 'CFA = 800, Climate Zone = 14' took: 25287.36235 ms\n",
      "Code block 'CFA = 1200, Climate Zone = 14' took: 28528.33761 ms\n",
      "Code block 'CFA = 2700, Climate Zone = 16' took: 32700.60889 ms\n",
      "Code block 'CFA = 2700, Climate Zone = 10' took: 32835.77595 ms\n",
      "Code block 'CFA = 1200, Climate Zone = 12' took: 28620.28535 ms\n",
      "Code block 'CFA = 1200, Climate Zone = 8' took: 28745.39082 ms\n",
      "Code block 'CFA = 800, Climate Zone = 1' took: 25567.13203 ms\n",
      "Code block 'CFA = 3500, Climate Zone = 9' took: 38532.87545 ms\n",
      "Code block 'CFA = 2100, Climate Zone = 15' took: 33485.65242 ms\n",
      "Code block 'CFA = 3500, Climate Zone = 13' took: 38937.16052 ms\n",
      "Code block 'CFA = 2700, Climate Zone = 8' took: 34864.23838 ms\n",
      "Code block 'CFA = 1200, Climate Zone = 10' took: 29941.36716 ms\n",
      "Code block 'CFA = 2700, Climate Zone = 12' took: 34463.60732 ms\n",
      "Code block 'CFA = 800, Climate Zone = 12' took: 26896.11924 ms\n",
      "Code block 'CFA = 3500, Climate Zone = 11' took: 37688.92460 ms\n",
      "script ran80 draw profiles in 2643.1107709407806 seconds\n"
     ]
    }
   ],
   "source": [
    "%run GasHPWH_Model_MixedTank_Simulation_MultipleDraws.py"
   ]
  },
  {
   "cell_type": "code",
   "execution_count": 3,
   "metadata": {},
   "outputs": [],
   "source": [
    "kWh_Dataframe.to_csv(Path_Summary_Output + os.sep + 'kWh_Usage_Summary.csv')\n",
    "Therms_Dataframe.to_csv(Path_Summary_Output + os.sep + 'Therms_Usage_Summary.csv')"
   ]
  },
  {
   "cell_type": "code",
   "execution_count": 33,
   "metadata": {},
   "outputs": [
    {
     "data": {
      "text/html": [
       "<div>\n",
       "<style scoped>\n",
       "    .dataframe tbody tr th:only-of-type {\n",
       "        vertical-align: middle;\n",
       "    }\n",
       "\n",
       "    .dataframe tbody tr th {\n",
       "        vertical-align: top;\n",
       "    }\n",
       "\n",
       "    .dataframe thead th {\n",
       "        text-align: right;\n",
       "    }\n",
       "</style>\n",
       "<table border=\"1\" class=\"dataframe\">\n",
       "  <thead>\n",
       "    <tr style=\"text-align: right;\">\n",
       "      <th></th>\n",
       "      <th>; MoDaHr</th>\n",
       "      <th>CZ1 Electricity Long-Run Carbon Emission Factors (ton/MWh)</th>\n",
       "      <th>CZ2 Electricity Long-Run Carbon Emission Factors (ton/MWh)</th>\n",
       "      <th>CZ3 Electricity Long-Run Carbon Emission Factors (ton/MWh)</th>\n",
       "      <th>CZ4 Electricity Long-Run Carbon Emission Factors (ton/MWh)</th>\n",
       "      <th>CZ5 Electricity Long-Run Carbon Emission Factors (ton/MWh)</th>\n",
       "      <th>CZ6 Electricity Long-Run Carbon Emission Factors (ton/MWh)</th>\n",
       "      <th>CZ7 Electricity Long-Run Carbon Emission Factors (ton/MWh)</th>\n",
       "      <th>CZ8 Electricity Long-Run Carbon Emission Factors (ton/MWh)</th>\n",
       "      <th>CZ9 Electricity Long-Run Carbon Emission Factors (ton/MWh)</th>\n",
       "      <th>CZ10 Electricity Long-Run Carbon Emission Factors (ton/MWh)</th>\n",
       "      <th>CZ11 Electricity Long-Run Carbon Emission Factors (ton/MWh)</th>\n",
       "      <th>CZ12 Electricity Long-Run Carbon Emission Factors (ton/MWh)</th>\n",
       "      <th>CZ13 Electricity Long-Run Carbon Emission Factors (ton/MWh)</th>\n",
       "      <th>CZ14 Electricity Long-Run Carbon Emission Factors (ton/MWh)</th>\n",
       "      <th>CZ15 Electricity Long-Run Carbon Emission Factors (ton/MWh)</th>\n",
       "      <th>CZ16 Electricity Long-Run Carbon Emission Factors (ton/MWh)</th>\n",
       "    </tr>\n",
       "  </thead>\n",
       "  <tbody>\n",
       "    <tr>\n",
       "      <th>0</th>\n",
       "      <td>10101</td>\n",
       "      <td>0.252024</td>\n",
       "      <td>0.252024</td>\n",
       "      <td>0.252024</td>\n",
       "      <td>0.252024</td>\n",
       "      <td>0.252024</td>\n",
       "      <td>0.250087</td>\n",
       "      <td>0.250087</td>\n",
       "      <td>0.250087</td>\n",
       "      <td>0.250087</td>\n",
       "      <td>0.250087</td>\n",
       "      <td>0.252024</td>\n",
       "      <td>0.252024</td>\n",
       "      <td>0.252024</td>\n",
       "      <td>0.250087</td>\n",
       "      <td>0.250087</td>\n",
       "      <td>0.250087</td>\n",
       "    </tr>\n",
       "    <tr>\n",
       "      <th>1</th>\n",
       "      <td>10102</td>\n",
       "      <td>0.232415</td>\n",
       "      <td>0.232415</td>\n",
       "      <td>0.232415</td>\n",
       "      <td>0.232415</td>\n",
       "      <td>0.232415</td>\n",
       "      <td>0.217451</td>\n",
       "      <td>0.217451</td>\n",
       "      <td>0.217451</td>\n",
       "      <td>0.217451</td>\n",
       "      <td>0.217451</td>\n",
       "      <td>0.232415</td>\n",
       "      <td>0.232415</td>\n",
       "      <td>0.232415</td>\n",
       "      <td>0.217451</td>\n",
       "      <td>0.217451</td>\n",
       "      <td>0.217451</td>\n",
       "    </tr>\n",
       "    <tr>\n",
       "      <th>2</th>\n",
       "      <td>10103</td>\n",
       "      <td>0.229260</td>\n",
       "      <td>0.229260</td>\n",
       "      <td>0.229260</td>\n",
       "      <td>0.229260</td>\n",
       "      <td>0.229260</td>\n",
       "      <td>0.213988</td>\n",
       "      <td>0.213988</td>\n",
       "      <td>0.213988</td>\n",
       "      <td>0.213988</td>\n",
       "      <td>0.213988</td>\n",
       "      <td>0.229260</td>\n",
       "      <td>0.229260</td>\n",
       "      <td>0.229260</td>\n",
       "      <td>0.213988</td>\n",
       "      <td>0.213988</td>\n",
       "      <td>0.213988</td>\n",
       "    </tr>\n",
       "    <tr>\n",
       "      <th>3</th>\n",
       "      <td>10104</td>\n",
       "      <td>0.228362</td>\n",
       "      <td>0.228362</td>\n",
       "      <td>0.228362</td>\n",
       "      <td>0.228362</td>\n",
       "      <td>0.228362</td>\n",
       "      <td>0.213382</td>\n",
       "      <td>0.213382</td>\n",
       "      <td>0.213382</td>\n",
       "      <td>0.213382</td>\n",
       "      <td>0.213382</td>\n",
       "      <td>0.228362</td>\n",
       "      <td>0.228362</td>\n",
       "      <td>0.228362</td>\n",
       "      <td>0.213382</td>\n",
       "      <td>0.213382</td>\n",
       "      <td>0.213382</td>\n",
       "    </tr>\n",
       "    <tr>\n",
       "      <th>4</th>\n",
       "      <td>10105</td>\n",
       "      <td>0.235335</td>\n",
       "      <td>0.235335</td>\n",
       "      <td>0.235335</td>\n",
       "      <td>0.235335</td>\n",
       "      <td>0.235335</td>\n",
       "      <td>0.220435</td>\n",
       "      <td>0.220435</td>\n",
       "      <td>0.220435</td>\n",
       "      <td>0.220435</td>\n",
       "      <td>0.220435</td>\n",
       "      <td>0.235335</td>\n",
       "      <td>0.235335</td>\n",
       "      <td>0.235335</td>\n",
       "      <td>0.220435</td>\n",
       "      <td>0.220435</td>\n",
       "      <td>0.220435</td>\n",
       "    </tr>\n",
       "  </tbody>\n",
       "</table>\n",
       "</div>"
      ],
      "text/plain": [
       "   ; MoDaHr  CZ1 Electricity Long-Run Carbon Emission Factors (ton/MWh)  \\\n",
       "0     10101                                           0.252024            \n",
       "1     10102                                           0.232415            \n",
       "2     10103                                           0.229260            \n",
       "3     10104                                           0.228362            \n",
       "4     10105                                           0.235335            \n",
       "\n",
       "   CZ2 Electricity Long-Run Carbon Emission Factors (ton/MWh)  \\\n",
       "0                                           0.252024            \n",
       "1                                           0.232415            \n",
       "2                                           0.229260            \n",
       "3                                           0.228362            \n",
       "4                                           0.235335            \n",
       "\n",
       "   CZ3 Electricity Long-Run Carbon Emission Factors (ton/MWh)  \\\n",
       "0                                           0.252024            \n",
       "1                                           0.232415            \n",
       "2                                           0.229260            \n",
       "3                                           0.228362            \n",
       "4                                           0.235335            \n",
       "\n",
       "   CZ4 Electricity Long-Run Carbon Emission Factors (ton/MWh)  \\\n",
       "0                                           0.252024            \n",
       "1                                           0.232415            \n",
       "2                                           0.229260            \n",
       "3                                           0.228362            \n",
       "4                                           0.235335            \n",
       "\n",
       "   CZ5 Electricity Long-Run Carbon Emission Factors (ton/MWh)  \\\n",
       "0                                           0.252024            \n",
       "1                                           0.232415            \n",
       "2                                           0.229260            \n",
       "3                                           0.228362            \n",
       "4                                           0.235335            \n",
       "\n",
       "   CZ6 Electricity Long-Run Carbon Emission Factors (ton/MWh)  \\\n",
       "0                                           0.250087            \n",
       "1                                           0.217451            \n",
       "2                                           0.213988            \n",
       "3                                           0.213382            \n",
       "4                                           0.220435            \n",
       "\n",
       "   CZ7 Electricity Long-Run Carbon Emission Factors (ton/MWh)  \\\n",
       "0                                           0.250087            \n",
       "1                                           0.217451            \n",
       "2                                           0.213988            \n",
       "3                                           0.213382            \n",
       "4                                           0.220435            \n",
       "\n",
       "   CZ8 Electricity Long-Run Carbon Emission Factors (ton/MWh)  \\\n",
       "0                                           0.250087            \n",
       "1                                           0.217451            \n",
       "2                                           0.213988            \n",
       "3                                           0.213382            \n",
       "4                                           0.220435            \n",
       "\n",
       "   CZ9 Electricity Long-Run Carbon Emission Factors (ton/MWh)  \\\n",
       "0                                           0.250087            \n",
       "1                                           0.217451            \n",
       "2                                           0.213988            \n",
       "3                                           0.213382            \n",
       "4                                           0.220435            \n",
       "\n",
       "   CZ10 Electricity Long-Run Carbon Emission Factors (ton/MWh)  \\\n",
       "0                                           0.250087             \n",
       "1                                           0.217451             \n",
       "2                                           0.213988             \n",
       "3                                           0.213382             \n",
       "4                                           0.220435             \n",
       "\n",
       "   CZ11 Electricity Long-Run Carbon Emission Factors (ton/MWh)  \\\n",
       "0                                           0.252024             \n",
       "1                                           0.232415             \n",
       "2                                           0.229260             \n",
       "3                                           0.228362             \n",
       "4                                           0.235335             \n",
       "\n",
       "   CZ12 Electricity Long-Run Carbon Emission Factors (ton/MWh)  \\\n",
       "0                                           0.252024             \n",
       "1                                           0.232415             \n",
       "2                                           0.229260             \n",
       "3                                           0.228362             \n",
       "4                                           0.235335             \n",
       "\n",
       "   CZ13 Electricity Long-Run Carbon Emission Factors (ton/MWh)  \\\n",
       "0                                           0.252024             \n",
       "1                                           0.232415             \n",
       "2                                           0.229260             \n",
       "3                                           0.228362             \n",
       "4                                           0.235335             \n",
       "\n",
       "   CZ14 Electricity Long-Run Carbon Emission Factors (ton/MWh)  \\\n",
       "0                                           0.250087             \n",
       "1                                           0.217451             \n",
       "2                                           0.213988             \n",
       "3                                           0.213382             \n",
       "4                                           0.220435             \n",
       "\n",
       "   CZ15 Electricity Long-Run Carbon Emission Factors (ton/MWh)  \\\n",
       "0                                           0.250087             \n",
       "1                                           0.217451             \n",
       "2                                           0.213988             \n",
       "3                                           0.213382             \n",
       "4                                           0.220435             \n",
       "\n",
       "   CZ16 Electricity Long-Run Carbon Emission Factors (ton/MWh)  \n",
       "0                                           0.250087            \n",
       "1                                           0.217451            \n",
       "2                                           0.213988            \n",
       "3                                           0.213382            \n",
       "4                                           0.220435            "
      ]
     },
     "execution_count": 33,
     "metadata": {},
     "output_type": "execute_result"
    }
   ],
   "source": [
    "CO2_Elec.head()"
   ]
  },
  {
   "cell_type": "code",
   "execution_count": 205,
   "metadata": {},
   "outputs": [],
   "source": [
    "Start = Draw_Profile.loc[i, 'Start Time of Profile (min)'] #Reads the time when the draw starts\n",
    "End = Draw_Profile.loc[i, 'End Time of Profile (min)'] #Reads the time when the draw ends\n",
    "Bin_Start = int(np.floor(Start/Timestep) + 1) #Calculates the bin when the draw starts. adds one because bins are labeled according to thier end time\n",
    "Number_Bins = int(np.ceil((End-Start)/Timestep)) #Identifies the number of timesteps over which the current draw is performed. E.g. A 10 minute hot water draw starting at 12:02:30 in a profile with 1 minute timeseps would occupy 11 bins (The second half of 12:02, 12:03, 12:04, ..., 12:11, the first half of 12:12)\n",
    "Bin_End = Bin_Start + Number_Bins - 1\n",
    "Flow_Rate = Draw_Profile.loc[i, 'Hot Water Flow Rate (gpm)'] #Reads the hot water flow rate of the draw and stores it in the variable Flow_Rate\n",
    "Duration = Draw_Profile.loc[i, 'Duration (min)'] #Reads the duration of the draw and stores it in the variable Duration\n",
    "\n",
    "if Number_Bins == 1: #If the draw only happens during a single timestep\n",
    "    Model.loc[Bin_Start, 'Hot Water Draw Volume (gal)'] += Flow_Rate * Duration #Add the entire volume of the draw to that timestep\n",
    "else: #If it takes place over more than one draw\n",
    "    Duration_First = Timestep - (Start - Timestep * (Bin_Start-1)) #Identify the duration of the draw during the first time step\n",
    "#     Model.loc[Bin_Start, 'Hot Water Draw Volume (gal)'] += Flow_Rate * Duration_First #Set the volume of the draw duing the first time step equal to the flow rate times that duration\n",
    "    Duration_Last = End - (Bin_End-1) * Timestep #Calculate the duration during the final timestep\n",
    "#     Model.loc[Bin_End, 'Hot Water Draw Volume (gal)'] += Flow_Rate * Duration_Last #Set the volume of the draw during the final timestep equal to the flow rate times that duration\n",
    "#     if Number_Bins > 2: #If the draw occurs in more than 2 timesteps (Indicating that there are timesteps with continuous flow between the first and last timestep)\n",
    "#         for i in range(Number_Bins - 2): #For each of the intermediate timesteps\n",
    "#             Model.loc[Bin_Start, 'Hot Water Draw Volume (gal)'] += Flow_Rate * Timestep #Set the hot water draw volume equal to the flow rate (Times 1 minute)\n"
   ]
  },
  {
   "cell_type": "code",
   "execution_count": 216,
   "metadata": {},
   "outputs": [
    {
     "name": "stdout",
     "output_type": "stream",
     "text": [
      "1\n"
     ]
    }
   ],
   "source": [
    "Number_Bins = 3\n",
    "for i in range(1,Number_Bins-1):\n",
    "    print(i)"
   ]
  },
  {
   "cell_type": "markdown",
   "metadata": {},
   "source": []
  },
  {
   "cell_type": "code",
   "execution_count": 32,
   "metadata": {},
   "outputs": [],
   "source": [
    "if vary_inlet_temp == True:\n",
    "    WeatherData = Draw_Profile[['Day of Year (Day)','Mains Temperature (deg F)']].copy() #Read the weather data, ignoring the first 25 lines of header\n",
    "    WeatherData = WeatherData.drop_duplicates() #filter data to only include one reading for each day of year since the mains temp is the same for all 24 hrs each day\n",
    "    WeatherData = WeatherData.set_index([WeatherData['Day of Year (Day)']])\n",
    "    mains_temp_dict = {WeatherData.loc[each,'Day of Year (Day)']:WeatherData.loc[each,'Mains Temperature (deg F)'] for each in WeatherData['Day of Year (Day)']}"
   ]
  },
  {
   "cell_type": "code",
   "execution_count": 127,
   "metadata": {},
   "outputs": [
    {
     "data": {
      "text/plain": [
       "Time (min)                          2.762580e+10\n",
       "Hot Water Draw Volume (gal)         2.300605e+04\n",
       "Inlet Water Temperature (deg F)     4.204800e+06\n",
       "Ambient Temperature (deg F)         7.148160e+06\n",
       "Tank Temperature (deg F)            1.230077e+07\n",
       "Jacket Losses (Btu)                -1.516381e+07\n",
       "Energy Withdrawn (Btu)             -1.473626e+07\n",
       "Energy Added Backup (Btu)           0.000000e+00\n",
       "Energy Added Heat Pump (Btu)        2.989570e+07\n",
       "Energy Added Total (Btu)            2.989570e+07\n",
       "COP Gas                             1.830727e+05\n",
       "Total Energy Change (Btu)          -4.369437e+03\n",
       "Timestep (min)                      5.256000e+05\n",
       "Elec Energy Demand (Watts)          3.675266e+06\n",
       "Electric Usage (W-hrs)              3.062722e+05\n",
       "Gas Usage (Btu)                     1.709922e+07\n",
       "NOx Production (ng)                 1.804063e+11\n",
       "Energy Added Heat Pump (Btu/min)    5.979140e+06\n",
       "dtype: float64"
      ]
     },
     "execution_count": 127,
     "metadata": {},
     "output_type": "execute_result"
    }
   ],
   "source": [
    "testing"
   ]
  },
  {
   "cell_type": "code",
   "execution_count": 154,
   "metadata": {},
   "outputs": [],
   "source": [
    "testing2 = Model.sum()"
   ]
  },
  {
   "cell_type": "code",
   "execution_count": 218,
   "metadata": {},
   "outputs": [],
   "source": [
    "testing4 = Model.sum()"
   ]
  },
  {
   "cell_type": "code",
   "execution_count": 163,
   "metadata": {},
   "outputs": [
    {
     "data": {
      "text/plain": [
       "23005.944908376456"
      ]
     },
     "execution_count": 163,
     "metadata": {},
     "output_type": "execute_result"
    }
   ],
   "source": [
    "testing3[1]"
   ]
  },
  {
   "cell_type": "code",
   "execution_count": 221,
   "metadata": {},
   "outputs": [
    {
     "data": {
      "text/plain": [
       "23005.944908377667"
      ]
     },
     "execution_count": 221,
     "metadata": {},
     "output_type": "execute_result"
    }
   ],
   "source": [
    "Draw_Profile.sum()[10]"
   ]
  },
  {
   "cell_type": "code",
   "execution_count": 219,
   "metadata": {},
   "outputs": [
    {
     "data": {
      "text/plain": [
       "23005.944908376445"
      ]
     },
     "execution_count": 219,
     "metadata": {},
     "output_type": "execute_result"
    }
   ],
   "source": [
    "testing4[1]"
   ]
  },
  {
   "cell_type": "code",
   "execution_count": 225,
   "metadata": {},
   "outputs": [
    {
     "data": {
      "text/plain": [
       "23006.053733590732"
      ]
     },
     "execution_count": 225,
     "metadata": {},
     "output_type": "execute_result"
    }
   ],
   "source": [
    "testing[1]"
   ]
  },
  {
   "cell_type": "code",
   "execution_count": null,
   "metadata": {},
   "outputs": [],
   "source": []
  }
 ],
 "metadata": {
  "kernelspec": {
   "display_name": "Python 3",
   "language": "python",
   "name": "python3"
  },
  "language_info": {
   "codemirror_mode": {
    "name": "ipython",
    "version": 3
   },
   "file_extension": ".py",
   "mimetype": "text/x-python",
   "name": "python",
   "nbconvert_exporter": "python",
   "pygments_lexer": "ipython3",
   "version": "3.7.3"
  }
 },
 "nbformat": 4,
 "nbformat_minor": 2
}
