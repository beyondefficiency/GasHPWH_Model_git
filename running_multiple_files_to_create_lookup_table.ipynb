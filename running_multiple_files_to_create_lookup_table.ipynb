{
 "cells": [
  {
   "cell_type": "code",
   "execution_count": 4,
   "metadata": {},
   "outputs": [
    {
     "name": "stdout",
     "output_type": "stream",
     "text": [
      "Code block 'CFA = 1200, Climate Zone = 11' took: 45654.30574 ms\n",
      "Code block 'CFA = 800, Climate Zone = 7' took: 31533.36400 ms\n",
      "Code block 'CFA = 1200, Climate Zone = 13' took: 30806.46340 ms\n",
      "Code block 'CFA = 800, Climate Zone = 3' took: 28230.56058 ms\n",
      "Code block 'CFA = 2100, Climate Zone = 8' took: 33114.99813 ms\n",
      "Code block 'CFA = 1200, Climate Zone = 15' took: 35292.84862 ms\n",
      "Code block 'CFA = 1200, Climate Zone = 1' took: 30586.58689 ms\n",
      "Code block 'CFA = 3500, Climate Zone = 8' took: 42332.71543 ms\n",
      "Code block 'CFA = 1200, Climate Zone = 3' took: 29949.98985 ms\n",
      "Code block 'CFA = 800, Climate Zone = 14' took: 27236.76787 ms\n",
      "Code block 'CFA = 1200, Climate Zone = 7' took: 38271.44145 ms\n",
      "Code block 'CFA = 2700, Climate Zone = 9' took: 36033.54559 ms\n",
      "Code block 'CFA = 800, Climate Zone = 10' took: 31616.40931 ms\n",
      "Code block 'CFA = 1200, Climate Zone = 5' took: 36929.47505 ms\n",
      "Code block 'CFA = 2700, Climate Zone = 10' took: 34377.07445 ms\n",
      "Code block 'CFA = 800, Climate Zone = 4' took: 32314.36974 ms\n",
      "Code block 'CFA = 2100, Climate Zone = 1' took: 33378.44986 ms\n",
      "Code block 'CFA = 3500, Climate Zone = 15' took: 37189.03234 ms\n",
      "Code block 'CFA = 2700, Climate Zone = 12' took: 35619.79879 ms\n",
      "Code block 'CFA = 2100, Climate Zone = 3' took: 33067.13072 ms\n",
      "Code block 'CFA = 3500, Climate Zone = 13' took: 35728.50247 ms\n",
      "Code block 'CFA = 800, Climate Zone = 8' took: 29825.13040 ms\n",
      "Code block 'CFA = 2700, Climate Zone = 16' took: 32966.94711 ms\n",
      "Code block 'CFA = 2100, Climate Zone = 7' took: 31559.35094 ms\n",
      "Code block 'CFA = 2700, Climate Zone = 14' took: 33120.60356 ms\n",
      "Code block 'CFA = 2100, Climate Zone = 5' took: 32082.25391 ms\n",
      "Code block 'CFA = 3500, Climate Zone = 11' took: 35516.74358 ms\n",
      "Code block 'CFA = 3500, Climate Zone = 5' took: 35677.86617 ms\n",
      "Code block 'CFA = 2100, Climate Zone = 11' took: 31673.97497 ms\n",
      "Code block 'CFA = 2700, Climate Zone = 2' took: 33494.06463 ms\n",
      "Code block 'CFA = 2100, Climate Zone = 13' took: 33413.51688 ms\n",
      "Code block 'CFA = 3500, Climate Zone = 7' took: 36097.79560 ms\n",
      "Code block 'CFA = 2700, Climate Zone = 6' took: 32456.36643 ms\n",
      "Code block 'CFA = 3500, Climate Zone = 3' took: 35950.71770 ms\n",
      "Code block 'CFA = 3500, Climate Zone = 1' took: 35597.08320 ms\n",
      "Code block 'CFA = 800, Climate Zone = 13' took: 26864.96454 ms\n",
      "Code block 'CFA = 2700, Climate Zone = 4' took: 33997.91786 ms\n",
      "Code block 'CFA = 2100, Climate Zone = 15' took: 31955.86008 ms\n",
      "Code block 'CFA = 1200, Climate Zone = 8' took: 29566.78389 ms\n",
      "Code block 'CFA = 3500, Climate Zone = 10' took: 35449.17731 ms\n",
      "Code block 'CFA = 800, Climate Zone = 5' took: 27699.25338 ms\n",
      "Code block 'CFA = 2700, Climate Zone = 15' took: 32622.40657 ms\n",
      "Code block 'CFA = 2100, Climate Zone = 4' took: 32098.52090 ms\n",
      "Code block 'CFA = 2100, Climate Zone = 6' took: 31546.48469 ms\n",
      "Code block 'CFA = 800, Climate Zone = 1' took: 25924.32111 ms\n",
      "Code block 'CFA = 3500, Climate Zone = 12' took: 34660.58630 ms\n",
      "Code block 'CFA = 2700, Climate Zone = 13' took: 32025.97036 ms\n",
      "Code block 'CFA = 2100, Climate Zone = 2' took: 31802.83246 ms\n",
      "Code block 'CFA = 3500, Climate Zone = 16' took: 34996.78268 ms\n",
      "Code block 'CFA = 800, Climate Zone = 9' took: 34043.98118 ms\n",
      "Code block 'CFA = 3500, Climate Zone = 14' took: 35651.13569 ms\n",
      "Code block 'CFA = 2700, Climate Zone = 11' took: 32557.26820 ms\n",
      "Code block 'CFA = 2700, Climate Zone = 5' took: 32638.37696 ms\n",
      "Code block 'CFA = 2100, Climate Zone = 14' took: 36993.44497 ms\n",
      "Code block 'CFA = 1200, Climate Zone = 9' took: 30066.94125 ms\n",
      "Code block 'CFA = 3500, Climate Zone = 2' took: 39165.47565 ms\n",
      "Code block 'CFA = 2700, Climate Zone = 7' took: 31499.60620 ms\n",
      "Code block 'CFA = 2100, Climate Zone = 16' took: 42493.80929 ms\n",
      "Code block 'CFA = 3500, Climate Zone = 6' took: 34410.64612 ms\n",
      "Code block 'CFA = 800, Climate Zone = 16' took: 24865.09136 ms\n",
      "Code block 'CFA = 2700, Climate Zone = 3' took: 32168.00826 ms\n",
      "Code block 'CFA = 2100, Climate Zone = 12' took: 31707.18354 ms\n",
      "Code block 'CFA = 2700, Climate Zone = 1' took: 32749.28679 ms\n",
      "Code block 'CFA = 2100, Climate Zone = 10' took: 31885.18488 ms\n",
      "Code block 'CFA = 3500, Climate Zone = 4' took: 35767.03054 ms\n",
      "Code block 'CFA = 800, Climate Zone = 12' took: 25255.46861 ms\n",
      "Code block 'CFA = 2100, Climate Zone = 9' took: 37355.27706 ms\n",
      "Code block 'CFA = 1200, Climate Zone = 14' took: 29334.39801 ms\n",
      "Code block 'CFA = 800, Climate Zone = 6' took: 26294.42990 ms\n",
      "Code block 'CFA = 800, Climate Zone = 2' took: 26066.89626 ms\n",
      "Code block 'CFA = 1200, Climate Zone = 16' took: 34441.58119 ms\n",
      "Code block 'CFA = 1200, Climate Zone = 12' took: 28184.43180 ms\n",
      "Code block 'CFA = 1200, Climate Zone = 10' took: 29457.35868 ms\n",
      "Code block 'CFA = 2700, Climate Zone = 8' took: 40144.03410 ms\n",
      "Code block 'CFA = 1200, Climate Zone = 4' took: 30246.27872 ms\n",
      "Code block 'CFA = 1200, Climate Zone = 6' took: 34464.65023 ms\n",
      "Code block 'CFA = 1200, Climate Zone = 2' took: 29509.83900 ms\n",
      "Code block 'CFA = 800, Climate Zone = 15' took: 25986.92491 ms\n",
      "Code block 'CFA = 3500, Climate Zone = 9' took: 36572.53489 ms\n",
      "Code block 'CFA = 800, Climate Zone = 11' took: 26087.25871 ms\n"
     ]
    },
    {
     "ename": "NameError",
     "evalue": "name 'Start_Time' is not defined",
     "output_type": "error",
     "traceback": [
      "\u001b[0;31m---------------------------------------------------------------------------\u001b[0m",
      "\u001b[0;31mNameError\u001b[0m                                 Traceback (most recent call last)",
      "\u001b[0;32m~/Desktop/GitHub/GasHPWH_Model_git/GasHPWH_Model_MixedTank_Simulation_MultipleDraws.py\u001b[0m in \u001b[0;36m<module>\u001b[0;34m\u001b[0m\n\u001b[1;32m    267\u001b[0m \u001b[0;34m\u001b[0m\u001b[0m\n\u001b[1;32m    268\u001b[0m \u001b[0mEnd_Time\u001b[0m \u001b[0;34m=\u001b[0m \u001b[0mtime\u001b[0m\u001b[0;34m.\u001b[0m\u001b[0mtime\u001b[0m\u001b[0;34m(\u001b[0m\u001b[0;34m)\u001b[0m \u001b[0;31m#begin to time the script\u001b[0m\u001b[0;34m\u001b[0m\u001b[0;34m\u001b[0m\u001b[0m\n\u001b[0;32m--> 269\u001b[0;31m \u001b[0mprint\u001b[0m\u001b[0;34m(\u001b[0m\u001b[0;34m'script ran{0} draw profiles in {1} seconds'\u001b[0m\u001b[0;34m.\u001b[0m\u001b[0mformat\u001b[0m\u001b[0;34m(\u001b[0m\u001b[0mcount\u001b[0m\u001b[0;34m,\u001b[0m\u001b[0;34m(\u001b[0m\u001b[0mEnd_Time\u001b[0m \u001b[0;34m-\u001b[0m \u001b[0mStart_Time\u001b[0m\u001b[0;34m)\u001b[0m\u001b[0;34m/\u001b[0m\u001b[0;36m1000\u001b[0m\u001b[0;34m)\u001b[0m\u001b[0;34m)\u001b[0m\u001b[0;34m\u001b[0m\u001b[0;34m\u001b[0m\u001b[0m\n\u001b[0m",
      "\u001b[0;31mNameError\u001b[0m: name 'Start_Time' is not defined"
     ]
    }
   ],
   "source": [
    "%run GasHPWH_Model_MixedTank_Simulation_MultipleDraws.py"
   ]
  },
  {
   "cell_type": "code",
   "execution_count": 3,
   "metadata": {},
   "outputs": [],
   "source": [
    "kWh_Dataframe.to_csv(Path_Summary_Output + os.sep + 'kWh_Usage_Summary.csv')\n",
    "Therms_Dataframe.to_csv(Path_Summary_Output + os.sep + 'Therms_Usage_Summary.csv')"
   ]
  },
  {
   "cell_type": "code",
   "execution_count": 229,
   "metadata": {},
   "outputs": [
    {
     "ename": "NameError",
     "evalue": "name 'this' is not defined",
     "output_type": "error",
     "traceback": [
      "\u001b[0;31m---------------------------------------------------------------------------\u001b[0m",
      "\u001b[0;31mNameError\u001b[0m                                 Traceback (most recent call last)",
      "\u001b[0;32m<ipython-input-229-a6c20fd81199>\u001b[0m in \u001b[0;36m<module>\u001b[0;34m\u001b[0m\n\u001b[0;32m----> 1\u001b[0;31m \u001b[0mprint\u001b[0m\u001b[0;34m(\u001b[0m\u001b[0mthis\u001b[0m\u001b[0;34m)\u001b[0m\u001b[0;34m\u001b[0m\u001b[0;34m\u001b[0m\u001b[0m\n\u001b[0m",
      "\u001b[0;31mNameError\u001b[0m: name 'this' is not defined"
     ]
    }
   ],
   "source": [
    "time"
   ]
  },
  {
   "cell_type": "code",
   "execution_count": 205,
   "metadata": {},
   "outputs": [],
   "source": [
    "Start = Draw_Profile.loc[i, 'Start Time of Profile (min)'] #Reads the time when the draw starts\n",
    "End = Draw_Profile.loc[i, 'End Time of Profile (min)'] #Reads the time when the draw ends\n",
    "Bin_Start = int(np.floor(Start/Timestep) + 1) #Calculates the bin when the draw starts. adds one because bins are labeled according to thier end time\n",
    "Number_Bins = int(np.ceil((End-Start)/Timestep)) #Identifies the number of timesteps over which the current draw is performed. E.g. A 10 minute hot water draw starting at 12:02:30 in a profile with 1 minute timeseps would occupy 11 bins (The second half of 12:02, 12:03, 12:04, ..., 12:11, the first half of 12:12)\n",
    "Bin_End = Bin_Start + Number_Bins - 1\n",
    "Flow_Rate = Draw_Profile.loc[i, 'Hot Water Flow Rate (gpm)'] #Reads the hot water flow rate of the draw and stores it in the variable Flow_Rate\n",
    "Duration = Draw_Profile.loc[i, 'Duration (min)'] #Reads the duration of the draw and stores it in the variable Duration\n",
    "\n",
    "if Number_Bins == 1: #If the draw only happens during a single timestep\n",
    "    Model.loc[Bin_Start, 'Hot Water Draw Volume (gal)'] += Flow_Rate * Duration #Add the entire volume of the draw to that timestep\n",
    "else: #If it takes place over more than one draw\n",
    "    Duration_First = Timestep - (Start - Timestep * (Bin_Start-1)) #Identify the duration of the draw during the first time step\n",
    "#     Model.loc[Bin_Start, 'Hot Water Draw Volume (gal)'] += Flow_Rate * Duration_First #Set the volume of the draw duing the first time step equal to the flow rate times that duration\n",
    "    Duration_Last = End - (Bin_End-1) * Timestep #Calculate the duration during the final timestep\n",
    "#     Model.loc[Bin_End, 'Hot Water Draw Volume (gal)'] += Flow_Rate * Duration_Last #Set the volume of the draw during the final timestep equal to the flow rate times that duration\n",
    "#     if Number_Bins > 2: #If the draw occurs in more than 2 timesteps (Indicating that there are timesteps with continuous flow between the first and last timestep)\n",
    "#         for i in range(Number_Bins - 2): #For each of the intermediate timesteps\n",
    "#             Model.loc[Bin_Start, 'Hot Water Draw Volume (gal)'] += Flow_Rate * Timestep #Set the hot water draw volume equal to the flow rate (Times 1 minute)\n"
   ]
  },
  {
   "cell_type": "code",
   "execution_count": 216,
   "metadata": {},
   "outputs": [
    {
     "name": "stdout",
     "output_type": "stream",
     "text": [
      "1\n"
     ]
    }
   ],
   "source": [
    "Number_Bins = 3\n",
    "for i in range(1,Number_Bins-1):\n",
    "    print(i)"
   ]
  },
  {
   "cell_type": "markdown",
   "metadata": {},
   "source": []
  },
  {
   "cell_type": "code",
   "execution_count": 32,
   "metadata": {},
   "outputs": [],
   "source": [
    "if vary_inlet_temp == True:\n",
    "    WeatherData = Draw_Profile[['Day of Year (Day)','Mains Temperature (deg F)']].copy() #Read the weather data, ignoring the first 25 lines of header\n",
    "    WeatherData = WeatherData.drop_duplicates() #filter data to only include one reading for each day of year since the mains temp is the same for all 24 hrs each day\n",
    "    WeatherData = WeatherData.set_index([WeatherData['Day of Year (Day)']])\n",
    "    mains_temp_dict = {WeatherData.loc[each,'Day of Year (Day)']:WeatherData.loc[each,'Mains Temperature (deg F)'] for each in WeatherData['Day of Year (Day)']}"
   ]
  },
  {
   "cell_type": "code",
   "execution_count": 127,
   "metadata": {},
   "outputs": [
    {
     "data": {
      "text/plain": [
       "Time (min)                          2.762580e+10\n",
       "Hot Water Draw Volume (gal)         2.300605e+04\n",
       "Inlet Water Temperature (deg F)     4.204800e+06\n",
       "Ambient Temperature (deg F)         7.148160e+06\n",
       "Tank Temperature (deg F)            1.230077e+07\n",
       "Jacket Losses (Btu)                -1.516381e+07\n",
       "Energy Withdrawn (Btu)             -1.473626e+07\n",
       "Energy Added Backup (Btu)           0.000000e+00\n",
       "Energy Added Heat Pump (Btu)        2.989570e+07\n",
       "Energy Added Total (Btu)            2.989570e+07\n",
       "COP Gas                             1.830727e+05\n",
       "Total Energy Change (Btu)          -4.369437e+03\n",
       "Timestep (min)                      5.256000e+05\n",
       "Elec Energy Demand (Watts)          3.675266e+06\n",
       "Electric Usage (W-hrs)              3.062722e+05\n",
       "Gas Usage (Btu)                     1.709922e+07\n",
       "NOx Production (ng)                 1.804063e+11\n",
       "Energy Added Heat Pump (Btu/min)    5.979140e+06\n",
       "dtype: float64"
      ]
     },
     "execution_count": 127,
     "metadata": {},
     "output_type": "execute_result"
    }
   ],
   "source": [
    "testing"
   ]
  },
  {
   "cell_type": "code",
   "execution_count": 154,
   "metadata": {},
   "outputs": [],
   "source": [
    "testing2 = Model.sum()"
   ]
  },
  {
   "cell_type": "code",
   "execution_count": 218,
   "metadata": {},
   "outputs": [],
   "source": [
    "testing4 = Model.sum()"
   ]
  },
  {
   "cell_type": "code",
   "execution_count": 163,
   "metadata": {},
   "outputs": [
    {
     "data": {
      "text/plain": [
       "23005.944908376456"
      ]
     },
     "execution_count": 163,
     "metadata": {},
     "output_type": "execute_result"
    }
   ],
   "source": [
    "testing3[1]"
   ]
  },
  {
   "cell_type": "code",
   "execution_count": 221,
   "metadata": {},
   "outputs": [
    {
     "data": {
      "text/plain": [
       "23005.944908377667"
      ]
     },
     "execution_count": 221,
     "metadata": {},
     "output_type": "execute_result"
    }
   ],
   "source": [
    "Draw_Profile.sum()[10]"
   ]
  },
  {
   "cell_type": "code",
   "execution_count": 219,
   "metadata": {},
   "outputs": [
    {
     "data": {
      "text/plain": [
       "23005.944908376445"
      ]
     },
     "execution_count": 219,
     "metadata": {},
     "output_type": "execute_result"
    }
   ],
   "source": [
    "testing4[1]"
   ]
  },
  {
   "cell_type": "code",
   "execution_count": 225,
   "metadata": {},
   "outputs": [
    {
     "data": {
      "text/plain": [
       "23006.053733590732"
      ]
     },
     "execution_count": 225,
     "metadata": {},
     "output_type": "execute_result"
    }
   ],
   "source": [
    "testing[1]"
   ]
  },
  {
   "cell_type": "code",
   "execution_count": null,
   "metadata": {},
   "outputs": [],
   "source": []
  }
 ],
 "metadata": {
  "kernelspec": {
   "display_name": "Python 3",
   "language": "python",
   "name": "python3"
  },
  "language_info": {
   "codemirror_mode": {
    "name": "ipython",
    "version": 3
   },
   "file_extension": ".py",
   "mimetype": "text/x-python",
   "name": "python",
   "nbconvert_exporter": "python",
   "pygments_lexer": "ipython3",
   "version": "3.7.3"
  }
 },
 "nbformat": 4,
 "nbformat_minor": 2
}
