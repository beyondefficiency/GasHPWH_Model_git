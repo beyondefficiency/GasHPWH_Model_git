{
 "cells": [
  {
   "cell_type": "code",
   "execution_count": 15,
   "metadata": {},
   "outputs": [
    {
     "ename": "NameError",
     "evalue": "name 'Start_Time' is not defined",
     "output_type": "error",
     "traceback": [
      "\u001b[0;31m---------------------------------------------------------------------------\u001b[0m",
      "\u001b[0;31mNameError\u001b[0m                                 Traceback (most recent call last)",
      "\u001b[0;32m~/Desktop/GitHub/GasHPWH_Model_git/GasHPWH_Model_MixedTank_Simulation.py\u001b[0m in \u001b[0;36m<module>\u001b[0;34m\u001b[0m\n\u001b[1;32m    229\u001b[0m \u001b[0;34m\u001b[0m\u001b[0m\n\u001b[1;32m    230\u001b[0m \u001b[0mEnd_Time\u001b[0m \u001b[0;34m=\u001b[0m \u001b[0mtime\u001b[0m\u001b[0;34m.\u001b[0m\u001b[0mtime\u001b[0m\u001b[0;34m(\u001b[0m\u001b[0;34m)\u001b[0m \u001b[0;31m#begin to time the script\u001b[0m\u001b[0;34m\u001b[0m\u001b[0;34m\u001b[0m\u001b[0m\n\u001b[0;32m--> 231\u001b[0;31m \u001b[0mprint\u001b[0m\u001b[0;34m(\u001b[0m\u001b[0;34m'script ran in {1} seconds'\u001b[0m\u001b[0;34m.\u001b[0m\u001b[0mformat\u001b[0m\u001b[0;34m(\u001b[0m\u001b[0;34m(\u001b[0m\u001b[0mEnd_Time\u001b[0m \u001b[0;34m-\u001b[0m \u001b[0mStart_Time\u001b[0m\u001b[0;34m)\u001b[0m\u001b[0;34m/\u001b[0m\u001b[0;36m1000\u001b[0m\u001b[0;34m)\u001b[0m\u001b[0;34m)\u001b[0m\u001b[0;34m\u001b[0m\u001b[0;34m\u001b[0m\u001b[0m\n\u001b[0m",
      "\u001b[0;31mNameError\u001b[0m: name 'Start_Time' is not defined"
     ]
    }
   ],
   "source": [
    "%run GasHPWH_Model_MixedTank_Simulation.py"
   ]
  },
  {
   "cell_type": "code",
   "execution_count": 14,
   "metadata": {},
   "outputs": [
    {
     "ename": "NameError",
     "evalue": "name '__file__' is not defined",
     "output_type": "error",
     "traceback": [
      "\u001b[0;31m---------------------------------------------------------------------------\u001b[0m",
      "\u001b[0;31mNameError\u001b[0m                                 Traceback (most recent call last)",
      "\u001b[0;32m<ipython-input-14-53d900aef446>\u001b[0m in \u001b[0;36m<module>\u001b[0;34m\u001b[0m\n\u001b[0;32m----> 1\u001b[0;31m \u001b[0mPath_DrawProfile_Output_Base_Path\u001b[0m \u001b[0;34m=\u001b[0m \u001b[0mos\u001b[0m\u001b[0;34m.\u001b[0m\u001b[0mpath\u001b[0m\u001b[0;34m.\u001b[0m\u001b[0mdirname\u001b[0m\u001b[0;34m(\u001b[0m\u001b[0m__file__\u001b[0m\u001b[0;34m)\u001b[0m \u001b[0;34m+\u001b[0m \u001b[0mos\u001b[0m\u001b[0;34m.\u001b[0m\u001b[0msep\u001b[0m \u001b[0;34m+\u001b[0m \u001b[0;34m'Output'\u001b[0m\u001b[0;34m\u001b[0m\u001b[0;34m\u001b[0m\u001b[0m\n\u001b[0m\u001b[1;32m      2\u001b[0m \u001b[0mPath_DrawProfile_Output_File_Name\u001b[0m \u001b[0;34m=\u001b[0m \u001b[0;34m'Output_{0}.csv'\u001b[0m\u001b[0;34m.\u001b[0m\u001b[0mformat\u001b[0m\u001b[0;34m(\u001b[0m\u001b[0mdatetime\u001b[0m\u001b[0;34m.\u001b[0m\u001b[0mnow\u001b[0m\u001b[0;34m(\u001b[0m\u001b[0;34m)\u001b[0m\u001b[0;34m.\u001b[0m\u001b[0mstrftime\u001b[0m\u001b[0;34m(\u001b[0m\u001b[0;34m\"%d-%m-%Y %H:%M:%S\"\u001b[0m\u001b[0;34m)\u001b[0m\u001b[0;34m)\u001b[0m \u001b[0;31m#mark output by time run\u001b[0m\u001b[0;34m\u001b[0m\u001b[0;34m\u001b[0m\u001b[0m\n\u001b[1;32m      3\u001b[0m \u001b[0mPath_DrawProfile_Output\u001b[0m \u001b[0;34m=\u001b[0m \u001b[0mPath_DrawProfile_Output_Base_Path\u001b[0m \u001b[0;34m+\u001b[0m \u001b[0mos\u001b[0m\u001b[0;34m.\u001b[0m\u001b[0msep\u001b[0m \u001b[0;34m+\u001b[0m \u001b[0mPath_DrawProfile_Output_File_Name\u001b[0m\u001b[0;34m\u001b[0m\u001b[0;34m\u001b[0m\u001b[0m\n\u001b[1;32m      4\u001b[0m \u001b[0mModel\u001b[0m\u001b[0;34m.\u001b[0m\u001b[0mto_csv\u001b[0m\u001b[0;34m(\u001b[0m\u001b[0mPath_DrawProfile_Output\u001b[0m\u001b[0;34m,\u001b[0m \u001b[0mindex\u001b[0m \u001b[0;34m=\u001b[0m \u001b[0;32mFalse\u001b[0m\u001b[0;34m)\u001b[0m\u001b[0;34m\u001b[0m\u001b[0;34m\u001b[0m\u001b[0m\n",
      "\u001b[0;31mNameError\u001b[0m: name '__file__' is not defined"
     ]
    }
   ],
   "source": [
    "Path_DrawProfile_Output_Base_Path = os.path.dirname(__file__) + os.sep + 'Output'\n",
    "Path_DrawProfile_Output_File_Name = 'Output_{0}.csv'.format(datetime.now().strftime(\"%d-%m-%Y %H:%M:%S\")) #mark output by time run\n",
    "Path_DrawProfile_Output = Path_DrawProfile_Output_Base_Path + os.sep + Path_DrawProfile_Output_File_Name\n",
    "Model.to_csv(Path_DrawProfile_Output, index = False)\n"
   ]
  },
  {
   "cell_type": "code",
   "execution_count": 17,
   "metadata": {},
   "outputs": [
    {
     "data": {
      "text/plain": [
       "Day                            1H21H21H21H21H21H21H21H21H21H21H21D01D01D01D01...\n",
       "Day of Year (Day)                                                        5250817\n",
       "Duration (min)                                                           24997.5\n",
       "Fixture                        FAUCFAUCFAUCFAUCFAUCFAUCFAUCFAUCFAUCFAUCFAUCFA...\n",
       "Flow Rate (gpm)                                                          32835.3\n",
       "Mains Temperature (deg F)                                            1.59627e+06\n",
       "Start Time of Year (hr)                                              1.25742e+08\n",
       "Start time (hr)                                                           412478\n",
       "Fraction Hot Water                                                       14450.7\n",
       "Hot Water Flow Rate (gpm)                                                16457.4\n",
       "Hot Water Volume (gal)                                                   23299.1\n",
       "Start Time of Profile (min)                                           7.5445e+09\n",
       "End Time of Profile (min)                                            7.54453e+09\n",
       "dtype: object"
      ]
     },
     "execution_count": 17,
     "metadata": {},
     "output_type": "execute_result"
    }
   ],
   "source": [
    "Draw_Profile.sum()"
   ]
  },
  {
   "cell_type": "code",
   "execution_count": 18,
   "metadata": {},
   "outputs": [
    {
     "data": {
      "text/plain": [
       "Time (min)                          2.762580e+10\n",
       "Hot Water Draw Volume (gal)         2.329909e+04\n",
       "Inlet Water Temperature (deg F)     1.035757e+06\n",
       "Ambient Temperature (deg F)         7.148160e+06\n",
       "Tank Temperature (deg F)            1.229770e+07\n",
       "Jacket Losses (Btu)                -1.515476e+07\n",
       "Energy Withdrawn (Btu)             -1.309932e+07\n",
       "Energy Added Backup (Btu)           0.000000e+00\n",
       "Energy Added Heat Pump (Btu)        2.824898e+07\n",
       "Energy Added Total (Btu)            2.824898e+07\n",
       "COP Gas                             1.830803e+05\n",
       "Total Energy Change (Btu)          -5.097706e+03\n",
       "Timestep (min)                      5.256000e+05\n",
       "Elec Energy Demand (Watts)          3.502118e+06\n",
       "Electric Usage (W-hrs)              2.918432e+05\n",
       "Gas Usage (Btu)                     1.615922e+07\n",
       "NOx Production (ng)                 1.704888e+11\n",
       "Energy Added Heat Pump (Btu/min)    5.649797e+06\n",
       "dtype: float64"
      ]
     },
     "execution_count": 18,
     "metadata": {},
     "output_type": "execute_result"
    }
   ],
   "source": [
    "Model.sum()"
   ]
  },
  {
   "cell_type": "code",
   "execution_count": null,
   "metadata": {},
   "outputs": [],
   "source": []
  }
 ],
 "metadata": {
  "kernelspec": {
   "display_name": "Python 3",
   "language": "python",
   "name": "python3"
  },
  "language_info": {
   "codemirror_mode": {
    "name": "ipython",
    "version": 3
   },
   "file_extension": ".py",
   "mimetype": "text/x-python",
   "name": "python",
   "nbconvert_exporter": "python",
   "pygments_lexer": "ipython3",
   "version": "3.7.3"
  }
 },
 "nbformat": 4,
 "nbformat_minor": 2
}
