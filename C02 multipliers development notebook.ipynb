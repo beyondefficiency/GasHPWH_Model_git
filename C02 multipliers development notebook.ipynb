{
 "cells": [
  {
   "cell_type": "code",
   "execution_count": 131,
   "metadata": {},
   "outputs": [
    {
     "name": "stdout",
     "output_type": "stream",
     "text": [
      "[16.202215072799998, 4265.1775, 95, 105, 10000.032802239999, 115, 10, 539.562712, 110, 5, 1758431.9999999998, 0.01947420721288567, CZ5Electricity Long-Run Carbon Emission Factors (lb/kWh)\n",
      "0       0.504048\n",
      "1       0.464829\n",
      "2       0.458520\n",
      "3       0.456724\n",
      "4       0.470670\n",
      "          ...   \n",
      "8755    0.480052\n",
      "8756    0.480098\n",
      "8757    0.480062\n",
      "8758    0.479595\n",
      "8759    0.478473\n",
      "Name: CZ5 Electricity Long-Run Carbon Emission Factors (ton/MWh), Length: 8760, dtype: float64]\n",
      "Code block 'CFA = 3500, Climate Zone = 5' took: 38890.81668 ms\n",
      "[16.202215072799998, 4265.1775, 95, 105, 10000.032802239999, 115, 10, 539.562712, 110, 5, 1758431.9999999998, 0.01947420721288567, CZ1Electricity Long-Run Carbon Emission Factors (lb/kWh)\n",
      "0       0.504048\n",
      "1       0.464829\n",
      "2       0.458520\n",
      "3       0.456724\n",
      "4       0.470670\n",
      "          ...   \n",
      "8755    0.480052\n",
      "8756    0.480098\n",
      "8757    0.480062\n",
      "8758    0.479595\n",
      "8759    0.478473\n",
      "Name: CZ1 Electricity Long-Run Carbon Emission Factors (ton/MWh), Length: 8760, dtype: float64]\n",
      "Code block 'CFA = 3500, Climate Zone = 1' took: 39030.89704 ms\n",
      "script ran2 draw profiles in 1584647058.898779 seconds\n"
     ]
    }
   ],
   "source": [
    "%run GasHPWH_Model_MixedTank_Simulation_MultipleDraws.py"
   ]
  },
  {
   "cell_type": "code",
   "execution_count": 134,
   "metadata": {},
   "outputs": [
    {
     "name": "stdout",
     "output_type": "stream",
     "text": [
      "script ran in 40.02704191207886 seconds\n"
     ]
    }
   ],
   "source": [
    "%run GasHPWH_Model_MixedTank_Simulation.py"
   ]
  },
  {
   "cell_type": "code",
   "execution_count": 111,
   "metadata": {},
   "outputs": [
    {
     "data": {
      "text/plain": [
       "{'Bldg': 'Single',\n",
       " 'CZ': '1',\n",
       " 'Wat': 'Hot',\n",
       " 'Prof': '5',\n",
       " 'SDLM': 'Yes',\n",
       " 'CFA': '3500',\n",
       " 'Inc': 'FSCDB',\n",
       " 'Ver': '2019'}"
      ]
     },
     "execution_count": 111,
     "metadata": {},
     "output_type": "execute_result"
    }
   ],
   "source": [
    "All_Variable_Dicts[current_profile]"
   ]
  },
  {
   "cell_type": "code",
   "execution_count": 81,
   "metadata": {},
   "outputs": [
    {
     "data": {
      "text/plain": [
       "'/Users/nathaniltis/Desktop/GitHub/GasHPWH_Model_git/Output'"
      ]
     },
     "execution_count": 81,
     "metadata": {},
     "output_type": "execute_result"
    }
   ],
   "source": [
    "Path_DrawProfile_Base_Output_Path"
   ]
  },
  {
   "cell_type": "code",
   "execution_count": 80,
   "metadata": {},
   "outputs": [
    {
     "data": {
      "text/plain": [
       "; MoDaHr                                                       5.855607e+08\n",
       "CZ1 Electricity Long-Run Carbon Emission Factors (ton/MWh)     1.926136e+03\n",
       "CZ2 Electricity Long-Run Carbon Emission Factors (ton/MWh)     1.926136e+03\n",
       "CZ3 Electricity Long-Run Carbon Emission Factors (ton/MWh)     1.926136e+03\n",
       "CZ4 Electricity Long-Run Carbon Emission Factors (ton/MWh)     1.926136e+03\n",
       "CZ5 Electricity Long-Run Carbon Emission Factors (ton/MWh)     1.926136e+03\n",
       "CZ6 Electricity Long-Run Carbon Emission Factors (ton/MWh)     1.790122e+03\n",
       "CZ7 Electricity Long-Run Carbon Emission Factors (ton/MWh)     1.790122e+03\n",
       "CZ8 Electricity Long-Run Carbon Emission Factors (ton/MWh)     1.790122e+03\n",
       "CZ9 Electricity Long-Run Carbon Emission Factors (ton/MWh)     1.790122e+03\n",
       "CZ10 Electricity Long-Run Carbon Emission Factors (ton/MWh)    1.790122e+03\n",
       "CZ11 Electricity Long-Run Carbon Emission Factors (ton/MWh)    1.926136e+03\n",
       "CZ12 Electricity Long-Run Carbon Emission Factors (ton/MWh)    1.926136e+03\n",
       "CZ13 Electricity Long-Run Carbon Emission Factors (ton/MWh)    1.926136e+03\n",
       "CZ14 Electricity Long-Run Carbon Emission Factors (ton/MWh)    1.790122e+03\n",
       "CZ15 Electricity Long-Run Carbon Emission Factors (ton/MWh)    1.790122e+03\n",
       "CZ16 Electricity Long-Run Carbon Emission Factors (ton/MWh)    1.790122e+03\n",
       "dtype: float64"
      ]
     },
     "execution_count": 80,
     "metadata": {},
     "output_type": "execute_result"
    }
   ],
   "source": [
    "CO2_Elec.sum()\n"
   ]
  },
  {
   "cell_type": "code",
   "execution_count": 135,
   "metadata": {},
   "outputs": [],
   "source": [
    "ModelSim1 = Model.copy()"
   ]
  },
  {
   "cell_type": "code",
   "execution_count": 114,
   "metadata": {},
   "outputs": [
    {
     "data": {
      "text/plain": [
       "1218.404892560416"
      ]
     },
     "execution_count": 114,
     "metadata": {},
     "output_type": "execute_result"
    }
   ],
   "source": [
    "Model['CO2 Production Elec (lb)'].sum() + Model['CO2 Production Gas (lb)'].sum()"
   ]
  },
  {
   "cell_type": "code",
   "execution_count": 115,
   "metadata": {},
   "outputs": [
    {
     "data": {
      "text/plain": [
       "1218.404892560416"
      ]
     },
     "execution_count": 115,
     "metadata": {},
     "output_type": "execute_result"
    }
   ],
   "source": [
    "Model['CO2 Production (lb)'].sum()"
   ]
  },
  {
   "cell_type": "code",
   "execution_count": 116,
   "metadata": {},
   "outputs": [
    {
     "data": {
      "text/plain": [
       "94.35365223265511"
      ]
     },
     "execution_count": 116,
     "metadata": {},
     "output_type": "execute_result"
    }
   ],
   "source": [
    "(Model['Electric Usage (W-hrs)']/1000 * Model['Electricity CO2 Multiplier (lb/kWh)']).sum()"
   ]
  },
  {
   "cell_type": "code",
   "execution_count": 117,
   "metadata": {},
   "outputs": [
    {
     "data": {
      "text/plain": [
       "94.35365223265511"
      ]
     },
     "execution_count": 117,
     "metadata": {},
     "output_type": "execute_result"
    }
   ],
   "source": [
    "Model['CO2 Production Elec (lb)'].sum()"
   ]
  },
  {
   "cell_type": "code",
   "execution_count": 118,
   "metadata": {},
   "outputs": [
    {
     "data": {
      "text/plain": [
       "46227.25377264"
      ]
     },
     "execution_count": 118,
     "metadata": {},
     "output_type": "execute_result"
    }
   ],
   "source": [
    "ModelComp1['Electricity CO2 Multiplier (lb/kWh)'].sum()"
   ]
  },
  {
   "cell_type": "code",
   "execution_count": 119,
   "metadata": {},
   "outputs": [
    {
     "data": {
      "text/plain": [
       "94.35365223265511"
      ]
     },
     "execution_count": 119,
     "metadata": {},
     "output_type": "execute_result"
    }
   ],
   "source": [
    "ModelComp1['CO2 Production Elec (lb)'].sum()"
   ]
  },
  {
   "cell_type": "code",
   "execution_count": 120,
   "metadata": {},
   "outputs": [
    {
     "data": {
      "text/plain": [
       "46227.25377264"
      ]
     },
     "execution_count": 120,
     "metadata": {},
     "output_type": "execute_result"
    }
   ],
   "source": [
    "ModelSim1['Electricity CO2 Multiplier (lb/kWh)'].sum()"
   ]
  },
  {
   "cell_type": "code",
   "execution_count": 121,
   "metadata": {},
   "outputs": [
    {
     "data": {
      "text/plain": [
       "82.29271998753408"
      ]
     },
     "execution_count": 121,
     "metadata": {},
     "output_type": "execute_result"
    }
   ],
   "source": [
    "ModelSim1['CO2 Production Elec (lb)'].sum()"
   ]
  },
  {
   "cell_type": "code",
   "execution_count": 133,
   "metadata": {},
   "outputs": [
    {
     "data": {
      "text/plain": [
       "Time (min)                             2.762527e+10\n",
       "Hot Water Draw Volume (gal)            2.408163e+04\n",
       "Inlet Water Temperature (deg F)        5.367555e+06\n",
       "Ambient Temperature (deg F)            7.148160e+06\n",
       "Tank Temperature (deg F)               1.160628e+07\n",
       "Jacket Losses (Btu)                   -6.019224e+06\n",
       "Energy Withdrawn (Btu)                -1.122224e+07\n",
       "Energy Added Backup (Btu)              2.452477e+05\n",
       "Energy Added Heat Pump (Btu)           1.699390e+07\n",
       "Energy Added Total (Btu)               1.723915e+07\n",
       "COP Gas                                1.848089e+05\n",
       "Total Energy Change (Btu)             -2.319419e+03\n",
       "Timestep (min)                         5.256000e+05\n",
       "CO2 Production (lb)                    1.218405e+03\n",
       "Hour of Year (hr)                      4.603730e+08\n",
       "Electricity CO2 Multiplier (lb/kWh)    4.622725e+04\n",
       "Elec Energy Demand (Watts)             1.737720e+06\n",
       "Electric Usage (W-hrs)                 2.166669e+05\n",
       "Gas Usage (Btu)                        9.620032e+06\n",
       "NOx Production (ng)                    1.014967e+11\n",
       "CO2 Production Gas (lb)                1.124051e+03\n",
       "CO2 Production Elec (lb)               9.435365e+01\n",
       "Energy Added Heat Pump (Btu/min)       3.398780e+06\n",
       "dtype: float64"
      ]
     },
     "execution_count": 133,
     "metadata": {},
     "output_type": "execute_result"
    }
   ],
   "source": [
    "ModelComp1.sum()"
   ]
  },
  {
   "cell_type": "code",
   "execution_count": 136,
   "metadata": {},
   "outputs": [
    {
     "data": {
      "text/plain": [
       "Time (min)                             2.762527e+10\n",
       "Hot Water Draw Volume (gal)            2.408163e+04\n",
       "Inlet Water Temperature (deg F)        5.367555e+06\n",
       "Ambient Temperature (deg F)            7.148160e+06\n",
       "Tank Temperature (deg F)               1.160628e+07\n",
       "Jacket Losses (Btu)                   -6.019224e+06\n",
       "Energy Withdrawn (Btu)                -1.122224e+07\n",
       "Energy Added Backup (Btu)              2.452477e+05\n",
       "Energy Added Heat Pump (Btu)           1.699390e+07\n",
       "Energy Added Total (Btu)               1.723915e+07\n",
       "COP Gas                                1.848089e+05\n",
       "Total Energy Change (Btu)             -2.319419e+03\n",
       "Timestep (min)                         5.256000e+05\n",
       "CO2 Production (lb)                    1.218405e+03\n",
       "Hour of Year (hr)                      4.603730e+08\n",
       "Electricity CO2 Multiplier (lb/kWh)    4.622725e+04\n",
       "Elec Energy Demand (Watts)             1.737720e+06\n",
       "Electric Usage (W-hrs)                 2.166669e+05\n",
       "Gas Usage (Btu)                        9.620032e+06\n",
       "NOx Production (ng)                    1.014967e+11\n",
       "CO2 Production Gas (lb)                1.124051e+03\n",
       "CO2 Production Elec (lb)               9.435365e+01\n",
       "Energy Added Heat Pump (Btu/min)       3.398780e+06\n",
       "dtype: float64"
      ]
     },
     "execution_count": 136,
     "metadata": {},
     "output_type": "execute_result"
    }
   ],
   "source": [
    "ModelSim1.sum()"
   ]
  },
  {
   "cell_type": "code",
   "execution_count": 93,
   "metadata": {},
   "outputs": [],
   "source": [
    "my_ModelSim1 = pd.read_csv(Path_DrawProfile_Base_Output_Path + os.sep + \"Outputsimple_Bldg=Single_CZ=1_Wat=Hot_Prof=5_SDLM=Yes_CFA=3500_Inc=FSCDB_Ver=2019.csv\")"
   ]
  },
  {
   "cell_type": "code",
   "execution_count": 96,
   "metadata": {},
   "outputs": [
    {
     "data": {
      "text/plain": [
       "Time (min)                             2.762527e+10\n",
       "Hot Water Draw Volume (gal)            2.408163e+04\n",
       "Inlet Water Temperature (deg F)        5.367555e+06\n",
       "Ambient Temperature (deg F)            7.148160e+06\n",
       "Tank Temperature (deg F)               1.169374e+07\n",
       "Jacket Losses (Btu)                   -1.894231e+06\n",
       "Energy Withdrawn (Btu)                -1.127453e+07\n",
       "Energy Added Backup (Btu)              2.409825e+05\n",
       "Energy Added Heat Pump (Btu)           1.292777e+07\n",
       "Energy Added Total (Btu)               1.316875e+07\n",
       "COP Gas                                1.845902e+05\n",
       "Total Energy Change (Btu)             -1.258881e+01\n",
       "Timestep (min)                         5.256000e+05\n",
       "CO2 Production (lb)                    9.367236e+02\n",
       "Hour of Year (hr)                      4.603730e+08\n",
       "Electricity CO2 Multiplier (lb/kWh)    4.622725e+04\n",
       "Elec Energy Demand (Watts)             1.446975e+06\n",
       "Electric Usage (W-hrs)                 1.911885e+05\n",
       "Gas Usage (Btu)                        7.312524e+06\n",
       "NOx Production (ng)                    7.715120e+10\n",
       "CO2 Production Gas (lb)                8.544308e+02\n",
       "CO2 Production Elec (lb)               8.229272e+01\n",
       "Energy Added Heat Pump (Btu/min)       2.585554e+06\n",
       "dtype: float64"
      ]
     },
     "execution_count": 96,
     "metadata": {},
     "output_type": "execute_result"
    }
   ],
   "source": [
    "my_ModelSim1.sum()"
   ]
  },
  {
   "cell_type": "code",
   "execution_count": 97,
   "metadata": {},
   "outputs": [],
   "source": [
    "my_ModelComp1 = pd.read_csv(Path_DrawProfile_Base_Output_Path + os.sep + \"OUTPUTCOMPLEX_Bldg=Single_CZ=1_Wat=Hot_Prof=5_SDLM=Yes_CFA=3500_Inc=FSCDB_Ver=2019.csv\")"
   ]
  },
  {
   "cell_type": "code",
   "execution_count": 130,
   "metadata": {},
   "outputs": [
    {
     "data": {
      "text/plain": [
       "'3500'"
      ]
     },
     "execution_count": 130,
     "metadata": {},
     "output_type": "execute_result"
    }
   ],
   "source": [
    "FloorArea_Conditioned"
   ]
  },
  {
   "cell_type": "code",
   "execution_count": 137,
   "metadata": {},
   "outputs": [
    {
     "name": "stdout",
     "output_type": "stream",
     "text": [
      "True\n",
      "True\n",
      "True\n",
      "True\n",
      "True\n",
      "True\n",
      "True\n",
      "True\n",
      "True\n",
      "True\n",
      "True\n",
      "True\n",
      "True\n",
      "True\n",
      "True\n",
      "True\n",
      "True\n",
      "True\n",
      "True\n",
      "True\n",
      "True\n",
      "True\n",
      "True\n"
     ]
    }
   ],
   "source": [
    "for i in range(0,len(my_ModelComp1.sum())):\n",
    "    print(round(ModelSim1.sum()[i],-2) == round(ModelComp1.sum()[i],-2))"
   ]
  },
  {
   "cell_type": "code",
   "execution_count": 107,
   "metadata": {},
   "outputs": [
    {
     "data": {
      "text/plain": [
       "27625273200.0"
      ]
     },
     "execution_count": 107,
     "metadata": {},
     "output_type": "execute_result"
    }
   ],
   "source": [
    "my_ModelComp1.sum()[0]"
   ]
  },
  {
   "cell_type": "code",
   "execution_count": null,
   "metadata": {},
   "outputs": [],
   "source": []
  }
 ],
 "metadata": {
  "kernelspec": {
   "display_name": "Python 3",
   "language": "python",
   "name": "python3"
  },
  "language_info": {
   "codemirror_mode": {
    "name": "ipython",
    "version": 3
   },
   "file_extension": ".py",
   "mimetype": "text/x-python",
   "name": "python",
   "nbconvert_exporter": "python",
   "pygments_lexer": "ipython3",
   "version": "3.7.3"
  }
 },
 "nbformat": 4,
 "nbformat_minor": 2
}
