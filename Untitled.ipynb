{
 "cells": [
  {
   "cell_type": "code",
<<<<<<< HEAD
   "execution_count": 19,
=======
   "execution_count": 2,
>>>>>>> 3a03706fc1426013fe1e127729c7a504a126a1ca
   "metadata": {},
   "outputs": [
    {
     "name": "stdout",
     "output_type": "stream",
     "text": [
<<<<<<< HEAD
      "Code block 'CFA = 1200, Climate Zone = 11' took: 30588.73550 ms\n",
      "Code block 'CFA = 800, Climate Zone = 7' took: 29938.76865 ms\n",
      "Code block 'CFA = 1200, Climate Zone = 13' took: 32606.33135 ms\n",
      "Code block 'CFA = 800, Climate Zone = 3' took: 29674.24937 ms\n",
      "Code block 'CFA = 2100, Climate Zone = 8' took: 39761.16341 ms\n",
      "Code block 'CFA = 1200, Climate Zone = 15' took: 37041.42833 ms\n",
      "Code block 'CFA = 1200, Climate Zone = 1' took: 35802.29001 ms\n",
      "Code block 'CFA = 3500, Climate Zone = 8' took: 41814.75545 ms\n",
      "Code block 'CFA = 1200, Climate Zone = 3' took: 35854.86109 ms\n",
      "Code block 'CFA = 800, Climate Zone = 14' took: 36160.70853 ms\n",
      "Code block 'CFA = 1200, Climate Zone = 7' took: 42029.13218 ms\n",
      "Code block 'CFA = 2700, Climate Zone = 9' took: 46581.93952 ms\n",
      "Code block 'CFA = 800, Climate Zone = 10' took: 37629.94101 ms\n",
      "Code block 'CFA = 1200, Climate Zone = 5' took: 43939.82572 ms\n",
      "Code block 'CFA = 2700, Climate Zone = 10' took: 46487.53923 ms\n",
      "Code block 'CFA = 800, Climate Zone = 4' took: 37509.59370 ms\n",
      "Code block 'CFA = 2100, Climate Zone = 1' took: 44651.10497 ms\n",
      "Code block 'CFA = 3500, Climate Zone = 15' took: 44803.21387 ms\n",
      "Code block 'CFA = 2700, Climate Zone = 12' took: 43848.54328 ms\n",
      "Code block 'CFA = 2100, Climate Zone = 3' took: 37684.97800 ms\n",
      "Code block 'CFA = 3500, Climate Zone = 13' took: 45221.86243 ms\n",
      "Code block 'CFA = 800, Climate Zone = 8' took: 28838.94688 ms\n",
      "Code block 'CFA = 2700, Climate Zone = 16' took: 35992.60107 ms\n",
      "Code block 'CFA = 2100, Climate Zone = 7' took: 36212.66924 ms\n",
      "Code block 'CFA = 2700, Climate Zone = 14' took: 36448.04287 ms\n",
      "Code block 'CFA = 2100, Climate Zone = 5' took: 39353.07731 ms\n",
      "Code block 'CFA = 3500, Climate Zone = 11' took: 39982.79328 ms\n",
      "Code block 'CFA = 3500, Climate Zone = 5' took: 39544.06852 ms\n",
      "Code block 'CFA = 2100, Climate Zone = 11' took: 35298.30128 ms\n",
      "Code block 'CFA = 2700, Climate Zone = 2' took: 36648.68038 ms\n",
      "Code block 'CFA = 2100, Climate Zone = 13' took: 35534.69618 ms\n",
      "Code block 'CFA = 3500, Climate Zone = 7' took: 38968.65203 ms\n",
      "Code block 'CFA = 2700, Climate Zone = 6' took: 35510.55618 ms\n",
      "Code block 'CFA = 3500, Climate Zone = 3' took: 42501.71234 ms\n",
      "Code block 'CFA = 3500, Climate Zone = 1' took: 38540.43606 ms\n",
      "Code block 'CFA = 800, Climate Zone = 13' took: 28614.00370 ms\n",
      "Code block 'CFA = 2700, Climate Zone = 4' took: 35187.94937 ms\n",
      "Code block 'CFA = 2100, Climate Zone = 15' took: 35701.63581 ms\n",
      "Code block 'CFA = 1200, Climate Zone = 8' took: 33004.45524 ms\n",
      "Code block 'CFA = 3500, Climate Zone = 10' took: 38773.04672 ms\n",
      "Code block 'CFA = 800, Climate Zone = 5' took: 29142.34595 ms\n",
      "Code block 'CFA = 2700, Climate Zone = 15' took: 35878.63451 ms\n",
      "Code block 'CFA = 2100, Climate Zone = 4' took: 39136.46566 ms\n",
      "Code block 'CFA = 2100, Climate Zone = 6' took: 41090.86820 ms\n",
      "Code block 'CFA = 800, Climate Zone = 1' took: 34914.69940 ms\n",
      "Code block 'CFA = 3500, Climate Zone = 12' took: 39633.81826 ms\n",
      "Code block 'CFA = 2700, Climate Zone = 13' took: 35958.37660 ms\n",
      "Code block 'CFA = 2100, Climate Zone = 2' took: 35329.56622 ms\n",
      "Code block 'CFA = 3500, Climate Zone = 16' took: 39433.18985 ms\n",
      "Code block 'CFA = 800, Climate Zone = 9' took: 29705.53744 ms\n",
      "Code block 'CFA = 3500, Climate Zone = 14' took: 39231.39012 ms\n",
      "Code block 'CFA = 2700, Climate Zone = 11' took: 35796.43810 ms\n",
      "Code block 'CFA = 2700, Climate Zone = 5' took: 36076.26148 ms\n",
      "Code block 'CFA = 2100, Climate Zone = 14' took: 35361.89776 ms\n",
      "Code block 'CFA = 1200, Climate Zone = 9' took: 35851.99207 ms\n",
      "Code block 'CFA = 3500, Climate Zone = 2' took: 39673.78023 ms\n",
      "Code block 'CFA = 2700, Climate Zone = 7' took: 35283.40852 ms\n",
      "Code block 'CFA = 2100, Climate Zone = 16' took: 35193.59499 ms\n",
      "Code block 'CFA = 3500, Climate Zone = 6' took: 40064.20939 ms\n",
      "Code block 'CFA = 800, Climate Zone = 16' took: 29292.83984 ms\n",
      "Code block 'CFA = 2700, Climate Zone = 3' took: 36032.57291 ms\n",
      "Code block 'CFA = 2100, Climate Zone = 12' took: 34551.49955 ms\n",
      "Code block 'CFA = 2700, Climate Zone = 1' took: 35587.96813 ms\n",
      "Code block 'CFA = 2100, Climate Zone = 10' took: 34932.15181 ms\n",
      "Code block 'CFA = 3500, Climate Zone = 4' took: 37687.64886 ms\n",
      "Code block 'CFA = 800, Climate Zone = 12' took: 29177.34166 ms\n",
      "Code block 'CFA = 2100, Climate Zone = 9' took: 35886.05117 ms\n",
      "Code block 'CFA = 1200, Climate Zone = 14' took: 33471.41134 ms\n",
      "Code block 'CFA = 800, Climate Zone = 6' took: 29616.13304 ms\n",
      "Code block 'CFA = 800, Climate Zone = 2' took: 29461.49776 ms\n",
      "Code block 'CFA = 1200, Climate Zone = 16' took: 31785.21093 ms\n",
      "Code block 'CFA = 1200, Climate Zone = 12' took: 32419.72947 ms\n",
      "Code block 'CFA = 1200, Climate Zone = 10' took: 32932.50027 ms\n",
      "Code block 'CFA = 2700, Climate Zone = 8' took: 36020.18296 ms\n",
      "Code block 'CFA = 1200, Climate Zone = 4' took: 36983.68545 ms\n",
      "Code block 'CFA = 1200, Climate Zone = 6' took: 31884.82611 ms\n",
      "Code block 'CFA = 1200, Climate Zone = 2' took: 31648.80989 ms\n",
      "Code block 'CFA = 800, Climate Zone = 15' took: 29011.01195 ms\n",
      "Code block 'CFA = 3500, Climate Zone = 9' took: 39116.38012 ms\n",
      "Code block 'CFA = 800, Climate Zone = 11' took: 29492.03215 ms\n",
      "script ran80 draw profiles in 1580265257.128497 seconds\n"
=======
      "script ran in 24.484766960144043 seconds\n"
>>>>>>> 3a03706fc1426013fe1e127729c7a504a126a1ca
     ]
    }
   ],
   "source": [
<<<<<<< HEAD
    "%run GasHPWH_Model_MixedTank_Simulation_MultipleDraws.py"
=======
    "%run GasHPWH_Model_MixedTank_Simulation.py"
>>>>>>> 3a03706fc1426013fe1e127729c7a504a126a1ca
   ]
  },
  {
   "cell_type": "code",
<<<<<<< HEAD
   "execution_count": 11,
   "metadata": {},
   "outputs": [],
   "source": [
    "Model = Model['Inlet Water Temperature (deg F)'].replace(to_replace=0, method='ffill')"
=======
   "execution_count": 7,
   "metadata": {},
   "outputs": [
    {
     "data": {
      "text/plain": [
       "1"
      ]
     },
     "execution_count": 7,
     "metadata": {},
     "output_type": "execute_result"
    }
   ],
   "source": [
    "Number_Bins"
>>>>>>> 3a03706fc1426013fe1e127729c7a504a126a1ca
   ]
  },
  {
   "cell_type": "code",
<<<<<<< HEAD
   "execution_count": 12,
=======
   "execution_count": 4,
   "metadata": {},
   "outputs": [
    {
     "data": {
      "text/plain": [
       "range(1, 366)"
      ]
     },
     "execution_count": 4,
     "metadata": {},
     "output_type": "execute_result"
    }
   ],
   "source": [
    "Continuous_Index_Range_of_Days"
   ]
  },
  {
   "cell_type": "code",
   "execution_count": 6,
   "metadata": {},
   "outputs": [
    {
     "data": {
      "text/plain": [
       "1"
      ]
     },
     "execution_count": 6,
     "metadata": {},
     "output_type": "execute_result"
    }
   ],
   "source": [
    "min(Continuous_Index_Range_of_Days)"
   ]
  },
  {
   "cell_type": "code",
   "execution_count": 8,
   "metadata": {},
   "outputs": [
    {
     "data": {
      "text/plain": [
       "0.131"
      ]
     },
     "execution_count": 8,
     "metadata": {},
     "output_type": "execute_result"
    }
   ],
   "source": [
    "Duration"
   ]
  },
  {
   "cell_type": "code",
   "execution_count": 9,
   "metadata": {},
   "outputs": [
    {
     "data": {
      "text/plain": [
       "0.0262"
      ]
     },
     "execution_count": 9,
     "metadata": {},
     "output_type": "execute_result"
    }
   ],
   "source": [
    "Duration / Timestep"
   ]
  },
  {
   "cell_type": "code",
   "execution_count": 10,
   "metadata": {},
   "outputs": [
    {
     "data": {
      "text/plain": [
       "1.0"
      ]
     },
     "execution_count": 10,
     "metadata": {},
     "output_type": "execute_result"
    }
   ],
   "source": [
    "np.ceil(Duration)"
   ]
  },
  {
   "cell_type": "code",
   "execution_count": 11,
>>>>>>> 3a03706fc1426013fe1e127729c7a504a126a1ca
   "metadata": {},
   "outputs": [
    {
     "data": {
      "text/plain": [
<<<<<<< HEAD
       "105115    48.953\n",
       "105116    48.953\n",
       "105117    48.953\n",
       "105118    48.953\n",
       "105119    48.953\n",
       "Name: Inlet Water Temperature (deg F), dtype: float64"
      ]
     },
     "execution_count": 12,
=======
       "105098"
      ]
     },
     "execution_count": 11,
>>>>>>> 3a03706fc1426013fe1e127729c7a504a126a1ca
     "metadata": {},
     "output_type": "execute_result"
    }
   ],
   "source": [
<<<<<<< HEAD
    "Model.tail()"
=======
    "Bin_Start"
>>>>>>> 3a03706fc1426013fe1e127729c7a504a126a1ca
   ]
  },
  {
   "cell_type": "code",
   "execution_count": null,
   "metadata": {},
   "outputs": [],
   "source": []
  }
 ],
 "metadata": {
  "kernelspec": {
   "display_name": "Python 3",
   "language": "python",
   "name": "python3"
  },
  "language_info": {
   "codemirror_mode": {
    "name": "ipython",
    "version": 3
   },
   "file_extension": ".py",
   "mimetype": "text/x-python",
   "name": "python",
   "nbconvert_exporter": "python",
   "pygments_lexer": "ipython3",
   "version": "3.7.3"
  }
 },
 "nbformat": 4,
 "nbformat_minor": 2
}
