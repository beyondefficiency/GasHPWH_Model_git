{
 "cells": [
  {
   "cell_type": "code",
   "execution_count": 85,
   "metadata": {},
   "outputs": [
    {
     "name": "stdout",
     "output_type": "stream",
     "text": [
      "Code block 'read from csv' took: 3.03281 ms\n",
      "Code block 'initial manipulations' took: 6.12312 ms\n",
      "80 3 8.0 0.316324615 706 704\n",
      "Code block 'upper nested for loop' took: 2.39691 ms\n",
      "0 0 0 0 0\n",
      "Code block 'modeling calculations' took: 98.03574 ms\n",
      "Code block 'final changes to Model' took: 5.24160 ms\n",
      "Code block 'write to csv' took: 36.88699 ms\n",
      "Simulation time is 0.16773033142089844\n"
     ]
    }
   ],
   "source": [
    "%run GasHPWH_Model_MixedTank_Simulation.py"
   ]
  },
  {
   "cell_type": "code",
   "execution_count": 4,
   "metadata": {},
   "outputs": [],
   "source": [
    "Test_Model = Model.copy()\n",
    "# Test_Model.insert(loc = 0, column = \"reference_index\", value = Test_Model.index) #for reference in numpy frame\n",
    "column_names = Test_Model.columns\n",
    "data = Test_Model.to_numpy()\n",
    "New_Model = pd.DataFrame(data=data[0:,0:],index=Test_Model.index,columns=Test_Model.columns)"
   ]
  },
  {
   "cell_type": "markdown",
   "metadata": {},
   "source": [
    "New_Model = pd.DataFrame(data=data[1:,1:],index=data[1:,0],columns=column_names)"
   ]
  },
  {
   "cell_type": "code",
   "execution_count": 84,
   "metadata": {},
   "outputs": [
    {
     "name": "stdout",
     "output_type": "stream",
     "text": [
      "Code block 'read from csv' took: 4.41629 ms\n",
      "Code block 'initial manipulations' took: 5.42447 ms\n",
      "80 3 8.0 0.316324615 706 704\n",
      "Code block 'upper nested for loop' took: 152.35394 ms\n",
      "0 0 0 0 0\n",
      "Code block 'modeling calculations' took: 54.56562 ms\n",
      "Code block 'final changes to Model' took: 5.09418 ms\n",
      "Code block 'write to csv' took: 40.06012 ms\n",
      "Simulation time is 0.27042698860168457\n"
     ]
    }
   ],
   "source": [
    "%run GasHPWH_Model_MixedTank_Simulation.py"
   ]
  },
  {
   "cell_type": "code",
   "execution_count": 78,
   "metadata": {},
   "outputs": [
    {
     "name": "stdout",
     "output_type": "stream",
     "text": [
      "Time (min)                         10165680\n",
      "Hot Water Draw Volume (gal)              88\n",
      "Ambient Temperature (deg F)          137088\n",
      "Inlet Water Temperature (deg F)       80640\n",
      "dtype: int64\n",
      "Time (min)                         1.016568e+07\n",
      "Hot Water Draw Volume (gal)        1.443681e+02\n",
      "Ambient Temperature (deg F)        1.370880e+05\n",
      "Inlet Water Temperature (deg F)    8.064000e+04\n",
      "dtype: float64\n"
     ]
    }
   ],
   "source": [
    "print(Numpy_Model_This.sum())\n",
    "print(New_Intermitent_Model.sum())"
   ]
  },
  {
   "cell_type": "code",
   "execution_count": 75,
   "metadata": {},
   "outputs": [
    {
     "data": {
      "text/plain": [
       "array([ 0.        , 56.36814698,  0.        ,  0.        ])"
      ]
     },
     "execution_count": 75,
     "metadata": {},
     "output_type": "execute_result"
    }
   ],
   "source": [
    "np.array(New_Intermitent_Model.sum()) - np.array(Numpy_Model_This.sum())"
   ]
  },
  {
   "cell_type": "code",
   "execution_count": 74,
   "metadata": {},
   "outputs": [
    {
     "data": {
      "text/plain": [
       "array([ 0.00000000e+00, -5.63681470e+01,  0.00000000e+00,  0.00000000e+00,\n",
       "       -2.38040269e+02,  1.67014840e+03,  3.52232806e+04,  0.00000000e+00,\n",
       "        6.26952612e+05,  6.26952612e+05,  5.95100672e-01,  6.63846041e+05,\n",
       "        6.61585000e+04,  5.51320833e+03,  3.58995166e+05,  3.78942096e+09,\n",
       "        1.25450873e+05])"
      ]
     },
     "execution_count": 74,
     "metadata": {},
     "output_type": "execute_result"
    }
   ],
   "source": [
    "np.array(Model.sum()) - np.array(Test_Model.sum())"
   ]
  },
  {
   "cell_type": "code",
   "execution_count": 66,
   "metadata": {},
   "outputs": [
    {
     "name": "stdout",
     "output_type": "stream",
     "text": [
      "0\n",
      "296\n"
     ]
    }
   ],
   "source": [
    "counter = 0\n",
    "for i in range(0, len(draw_data)):\n",
    "    counter += 1\n",
    "    if counter == 1:\n",
    "        print(i)\n",
    "        \n",
    "print(i)"
   ]
  },
  {
   "cell_type": "code",
   "execution_count": 69,
   "metadata": {},
   "outputs": [
    {
     "data": {
      "text/plain": [
       "{'Day': 0,\n",
       " 'Day Of Year (Day)': 1,\n",
       " 'Start Time of Day (hr)': 2,\n",
       " 'Start Time of Year (hr)': 3,\n",
       " 'Fixture': 4,\n",
       " 'Mains Temperature (deg F)': 5,\n",
       " 'Duration (min)': 6,\n",
       " 'Fraction Hot Water': 7,\n",
       " 'Hot Water Flow Rate (gal/min)': 8,\n",
       " 'Hot Water Volume (gal)': 9,\n",
       " 'Setpoint_WaterHeater': 10,\n",
       " 'Start Time of Profile (min)': 11,\n",
       " 'End Time of Profile (min)': 12}"
      ]
     },
     "execution_count": 69,
     "metadata": {},
     "output_type": "execute_result"
    }
   ],
   "source": [
    "draw_col_indx"
   ]
  },
  {
   "cell_type": "code",
   "execution_count": null,
   "metadata": {},
   "outputs": [],
   "source": []
  }
 ],
 "metadata": {
  "kernelspec": {
   "display_name": "Python 3",
   "language": "python",
   "name": "python3"
  },
  "language_info": {
   "codemirror_mode": {
    "name": "ipython",
    "version": 3
   },
   "file_extension": ".py",
   "mimetype": "text/x-python",
   "name": "python",
   "nbconvert_exporter": "python",
   "pygments_lexer": "ipython3",
   "version": "3.7.3"
  }
 },
 "nbformat": 4,
 "nbformat_minor": 2
}
